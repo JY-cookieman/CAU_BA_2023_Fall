{
 "cells": [
  {
   "cell_type": "markdown",
   "id": "7ae592c2",
   "metadata": {},
   "source": [
    "# Assignment 2. Diabetes Diagnosis\n",
    "\n",
    "The assignment is to develop a classifier diagnostically predict whether or not a patient has diabetes, based on certain diagnostic measurements included in the dataset.\n",
    "\n",
    "The datasets consists of several medical predictor variables and one target variable, `Outcome`. Predictor variables includes the number of pregnancies the patient has had, their BMI, insulin level, age, and so on.\n",
    "\n",
    "Can you build a machine learning model to accurately predict whether or not the patients in the dataset have diabetes or not?\n",
    "\n",
    "First, let's load the data. The file named `diabetes_train.csv` is located in the same folder."
   ]
  },
  {
   "cell_type": "code",
   "execution_count": 2,
   "id": "3cde9cb0",
   "metadata": {},
   "outputs": [
    {
     "data": {
      "text/html": [
       "<div>\n",
       "<style scoped>\n",
       "    .dataframe tbody tr th:only-of-type {\n",
       "        vertical-align: middle;\n",
       "    }\n",
       "\n",
       "    .dataframe tbody tr th {\n",
       "        vertical-align: top;\n",
       "    }\n",
       "\n",
       "    .dataframe thead th {\n",
       "        text-align: right;\n",
       "    }\n",
       "</style>\n",
       "<table border=\"1\" class=\"dataframe\">\n",
       "  <thead>\n",
       "    <tr style=\"text-align: right;\">\n",
       "      <th></th>\n",
       "      <th>Pregnancies</th>\n",
       "      <th>Glucose</th>\n",
       "      <th>BloodPressure</th>\n",
       "      <th>SkinThickness</th>\n",
       "      <th>Insulin</th>\n",
       "      <th>BMI</th>\n",
       "      <th>DiabetesPedigreeFunction</th>\n",
       "      <th>Age</th>\n",
       "      <th>Outcome</th>\n",
       "    </tr>\n",
       "  </thead>\n",
       "  <tbody>\n",
       "    <tr>\n",
       "      <th>0</th>\n",
       "      <td>6</td>\n",
       "      <td>148</td>\n",
       "      <td>72</td>\n",
       "      <td>35</td>\n",
       "      <td>0</td>\n",
       "      <td>33.6</td>\n",
       "      <td>0.627</td>\n",
       "      <td>50</td>\n",
       "      <td>1</td>\n",
       "    </tr>\n",
       "    <tr>\n",
       "      <th>1</th>\n",
       "      <td>1</td>\n",
       "      <td>85</td>\n",
       "      <td>66</td>\n",
       "      <td>29</td>\n",
       "      <td>0</td>\n",
       "      <td>26.6</td>\n",
       "      <td>0.351</td>\n",
       "      <td>31</td>\n",
       "      <td>0</td>\n",
       "    </tr>\n",
       "    <tr>\n",
       "      <th>2</th>\n",
       "      <td>8</td>\n",
       "      <td>183</td>\n",
       "      <td>64</td>\n",
       "      <td>0</td>\n",
       "      <td>0</td>\n",
       "      <td>23.3</td>\n",
       "      <td>0.672</td>\n",
       "      <td>32</td>\n",
       "      <td>1</td>\n",
       "    </tr>\n",
       "    <tr>\n",
       "      <th>3</th>\n",
       "      <td>1</td>\n",
       "      <td>89</td>\n",
       "      <td>66</td>\n",
       "      <td>23</td>\n",
       "      <td>94</td>\n",
       "      <td>28.1</td>\n",
       "      <td>0.167</td>\n",
       "      <td>21</td>\n",
       "      <td>0</td>\n",
       "    </tr>\n",
       "    <tr>\n",
       "      <th>4</th>\n",
       "      <td>0</td>\n",
       "      <td>137</td>\n",
       "      <td>40</td>\n",
       "      <td>35</td>\n",
       "      <td>168</td>\n",
       "      <td>43.1</td>\n",
       "      <td>2.288</td>\n",
       "      <td>33</td>\n",
       "      <td>1</td>\n",
       "    </tr>\n",
       "    <tr>\n",
       "      <th>...</th>\n",
       "      <td>...</td>\n",
       "      <td>...</td>\n",
       "      <td>...</td>\n",
       "      <td>...</td>\n",
       "      <td>...</td>\n",
       "      <td>...</td>\n",
       "      <td>...</td>\n",
       "      <td>...</td>\n",
       "      <td>...</td>\n",
       "    </tr>\n",
       "    <tr>\n",
       "      <th>693</th>\n",
       "      <td>7</td>\n",
       "      <td>129</td>\n",
       "      <td>68</td>\n",
       "      <td>49</td>\n",
       "      <td>125</td>\n",
       "      <td>38.5</td>\n",
       "      <td>0.439</td>\n",
       "      <td>43</td>\n",
       "      <td>1</td>\n",
       "    </tr>\n",
       "    <tr>\n",
       "      <th>694</th>\n",
       "      <td>2</td>\n",
       "      <td>90</td>\n",
       "      <td>60</td>\n",
       "      <td>0</td>\n",
       "      <td>0</td>\n",
       "      <td>23.5</td>\n",
       "      <td>0.191</td>\n",
       "      <td>25</td>\n",
       "      <td>0</td>\n",
       "    </tr>\n",
       "    <tr>\n",
       "      <th>695</th>\n",
       "      <td>7</td>\n",
       "      <td>142</td>\n",
       "      <td>90</td>\n",
       "      <td>24</td>\n",
       "      <td>480</td>\n",
       "      <td>30.4</td>\n",
       "      <td>0.128</td>\n",
       "      <td>43</td>\n",
       "      <td>1</td>\n",
       "    </tr>\n",
       "    <tr>\n",
       "      <th>696</th>\n",
       "      <td>3</td>\n",
       "      <td>169</td>\n",
       "      <td>74</td>\n",
       "      <td>19</td>\n",
       "      <td>125</td>\n",
       "      <td>29.9</td>\n",
       "      <td>0.268</td>\n",
       "      <td>31</td>\n",
       "      <td>1</td>\n",
       "    </tr>\n",
       "    <tr>\n",
       "      <th>697</th>\n",
       "      <td>0</td>\n",
       "      <td>99</td>\n",
       "      <td>0</td>\n",
       "      <td>0</td>\n",
       "      <td>0</td>\n",
       "      <td>25.0</td>\n",
       "      <td>0.253</td>\n",
       "      <td>22</td>\n",
       "      <td>0</td>\n",
       "    </tr>\n",
       "  </tbody>\n",
       "</table>\n",
       "<p>698 rows × 9 columns</p>\n",
       "</div>"
      ],
      "text/plain": [
       "     Pregnancies  Glucose  BloodPressure  SkinThickness  Insulin   BMI  \\\n",
       "0              6      148             72             35        0  33.6   \n",
       "1              1       85             66             29        0  26.6   \n",
       "2              8      183             64              0        0  23.3   \n",
       "3              1       89             66             23       94  28.1   \n",
       "4              0      137             40             35      168  43.1   \n",
       "..           ...      ...            ...            ...      ...   ...   \n",
       "693            7      129             68             49      125  38.5   \n",
       "694            2       90             60              0        0  23.5   \n",
       "695            7      142             90             24      480  30.4   \n",
       "696            3      169             74             19      125  29.9   \n",
       "697            0       99              0              0        0  25.0   \n",
       "\n",
       "     DiabetesPedigreeFunction  Age  Outcome  \n",
       "0                       0.627   50        1  \n",
       "1                       0.351   31        0  \n",
       "2                       0.672   32        1  \n",
       "3                       0.167   21        0  \n",
       "4                       2.288   33        1  \n",
       "..                        ...  ...      ...  \n",
       "693                     0.439   43        1  \n",
       "694                     0.191   25        0  \n",
       "695                     0.128   43        1  \n",
       "696                     0.268   31        1  \n",
       "697                     0.253   22        0  \n",
       "\n",
       "[698 rows x 9 columns]"
      ]
     },
     "execution_count": 2,
     "metadata": {},
     "output_type": "execute_result"
    }
   ],
   "source": [
    "import pandas as pd\n",
    "\n",
    "df = pd.read_csv('diabetes_train.csv')\n",
    "df"
   ]
  },
  {
   "cell_type": "markdown",
   "id": "a8c3f74d",
   "metadata": {},
   "source": [
    "Define `X` and `y`. Here, `X` and `y` refers to the input and output of our classification models."
   ]
  },
  {
   "cell_type": "code",
   "execution_count": 3,
   "id": "cbd91e3d",
   "metadata": {},
   "outputs": [],
   "source": [
    "X = df.iloc[:, :-1] # or, df[['Pregnancies', 'Glucose', 'BloodPressure', 'SkinThickness', 'Insulin', 'BMI', 'DiabetesPedigreeFunction', 'Age']]\n",
    "y = df.iloc[:, -1]  # or, df['Outcome']"
   ]
  },
  {
   "cell_type": "markdown",
   "id": "c6d50d59",
   "metadata": {},
   "source": [
    "## Problem 1. Check the ratio of positive samples\n",
    "\n",
    "Check the ratio of positive samples? (here, positive means the target variable `Outcome==1`)\n",
    "\n",
    "- Hint: Check the number of all samples ans positive samples."
   ]
  },
  {
   "cell_type": "code",
   "execution_count": 4,
   "id": "48bae64f",
   "metadata": {},
   "outputs": [
    {
     "data": {
      "text/plain": [
       "((698, 8), (698,), 0.3452722063037249)"
      ]
     },
     "execution_count": 4,
     "metadata": {},
     "output_type": "execute_result"
    }
   ],
   "source": [
    "X.shape, y.shape, y.sum() / len(y)"
   ]
  },
  {
   "cell_type": "markdown",
   "id": "92f27d4b",
   "metadata": {},
   "source": [
    "## Problem 2. Train Classifiers"
   ]
  },
  {
   "cell_type": "markdown",
   "id": "4dc1e731",
   "metadata": {},
   "source": [
    "First, split the data into training and validation data. This is necessary to avoid overfitting. When spliting data, apply `stratify` option (why?)."
   ]
  },
  {
   "cell_type": "code",
   "execution_count": 5,
   "id": "fdde3072",
   "metadata": {},
   "outputs": [],
   "source": [
    "from sklearn.model_selection import train_test_split\n",
    "\n",
    "X_trn, X_val, y_trn, y_val = train_test_split(X, y, test_size=0.3, stratify=y, random_state=0)"
   ]
  },
  {
   "cell_type": "markdown",
   "id": "c56595a6",
   "metadata": {},
   "source": [
    "Apply feature normalization so that all features are considered equal."
   ]
  },
  {
   "cell_type": "code",
   "execution_count": 6,
   "id": "f63b9e23",
   "metadata": {},
   "outputs": [],
   "source": [
    "from sklearn.preprocessing import StandardScaler\n",
    "\n",
    "scaler = StandardScaler()\n",
    "scaler.fit(X_trn)\n",
    "X_trn_norm = scaler.transform(X_trn)\n",
    "X_val_norm = scaler.transform(X_val)"
   ]
  },
  {
   "cell_type": "markdown",
   "id": "d99a9d36",
   "metadata": {},
   "source": [
    "Train decision tree, random forest, and logistic regression using the normalized training data. And check the training and validation performances of the model (e.g., accuracy, fscore, ...)."
   ]
  },
  {
   "cell_type": "code",
   "execution_count": 7,
   "id": "499d4855",
   "metadata": {},
   "outputs": [
    {
     "name": "stdout",
     "output_type": "stream",
     "text": [
      "Evaluation on Validation Set with Decision Tree:\n",
      "Accuracy: 68.10%\n",
      "Precision: 56.82%\n",
      "Recall: 34.25%\n",
      "Fscore: 42.74%\n",
      "Evaluation on Validation Set with Random Forest:\n",
      "Accuracy: 71.90%\n",
      "Precision: 63.46%\n",
      "Recall: 45.21%\n",
      "Fscore: 52.80%\n",
      "Evaluation on Validation Set with Logistic Regression:\n",
      "Accuracy: 72.38%\n",
      "Precision: 66.67%\n",
      "Recall: 41.10%\n",
      "Fscore: 50.85%\n",
      "trainining finished.\n"
     ]
    }
   ],
   "source": [
    "from sklearn.tree import DecisionTreeClassifier\n",
    "from sklearn.ensemble import RandomForestClassifier\n",
    "from sklearn.linear_model import LogisticRegression\n",
    "from sklearn.metrics import accuracy_score, precision_score, recall_score, f1_score\n",
    "\n",
    "def evaluate(y_true, y_pred):\n",
    "    accuracy = accuracy_score(y_true, y_pred)\n",
    "    precision = precision_score(y_true, y_pred)\n",
    "    recall = recall_score(y_true, y_pred)\n",
    "    fscore = f1_score(y_true, y_pred)\n",
    "    print('Accuracy: {:.2f}%'.format(accuracy*100))\n",
    "    print('Precision: {:.2f}%'.format(precision*100))\n",
    "    print('Recall: {:.2f}%'.format(recall*100))\n",
    "    print('Fscore: {:.2f}%'.format(fscore*100))\n",
    "    \n",
    "clf_dt = DecisionTreeClassifier(max_depth=3)\n",
    "clf_dt.fit(X_trn_norm, y_trn)\n",
    "y_val_pred = clf_dt.predict(X_val_norm)\n",
    "print('Evaluation on Validation Set with Decision Tree:')\n",
    "evaluate(y_val, y_val_pred)\n",
    "\n",
    "clf_rf = RandomForestClassifier()\n",
    "clf_rf.fit(X_trn_norm, y_trn)\n",
    "y_val_pred = clf_rf.predict(X_val_norm)\n",
    "print('Evaluation on Validation Set with Random Forest:')\n",
    "evaluate(y_val, y_val_pred)\n",
    "\n",
    "clf_lr = LogisticRegression()\n",
    "clf_lr.fit(X_trn_norm, y_trn)\n",
    "y_val_pred = clf_lr.predict(X_val_norm)\n",
    "print('Evaluation on Validation Set with Logistic Regression:')\n",
    "evaluate(y_val, y_val_pred)\n",
    "\n",
    "print('trainining finished.')"
   ]
  },
  {
   "cell_type": "markdown",
   "id": "4871b3ce",
   "metadata": {},
   "source": [
    "## Problem 3. Feature importance\n",
    "\n",
    "Remember that logistic regression, decision tree, and random forest provide information about which feature is important to predict the outcome.\n",
    "\n",
    "In our problem of diabetes diagnosis, which feature is important? explore the model and describe your opinion."
   ]
  },
  {
   "cell_type": "code",
   "execution_count": 75,
   "id": "c7738e23",
   "metadata": {},
   "outputs": [
    {
     "name": "stdout",
     "output_type": "stream",
     "text": [
      "[3.88775880e-01 1.07222741e+00 1.49816867e-01 3.61498667e-02\n",
      " 4.64795566e-04 8.04934494e-01 3.77164650e-01 2.82671010e-01]\n"
     ]
    },
    {
     "data": {
      "text/plain": [
       "<Axes: ylabel='Feature'>"
      ]
     },
     "execution_count": 75,
     "metadata": {},
     "output_type": "execute_result"
    },
    {
     "data": {
      "image/png": "[encoded data removed]",
      "text/plain": [
       "<Figure size 500x300 with 1 Axes>"
      ]
     },
     "metadata": {},
     "output_type": "display_data"
    }
   ],
   "source": [
    "import numpy as np\n",
    "coefficients = clf_lr.coef_\n",
    "importance_lr = np.abs(coefficients)[0]\n",
    "print(importance_lr)\n",
    "feature_importance_lr = pd.DataFrame({'Feature': X.columns, 'Importance_lr': importance_lr})\n",
    "feature_importance_lr = feature_importance_lr.sort_values('Importance_lr', ascending=True)\n",
    "feature_importance_lr.plot(x='Feature', y='Importance_lr', kind='barh', figsize=(5, 3))"
   ]
  },
  {
   "cell_type": "code",
   "execution_count": 76,
   "id": "92c4e8d2",
   "metadata": {},
   "outputs": [
    {
     "data": {
      "text/html": [
       "<div>\n",
       "<style scoped>\n",
       "    .dataframe tbody tr th:only-of-type {\n",
       "        vertical-align: middle;\n",
       "    }\n",
       "\n",
       "    .dataframe tbody tr th {\n",
       "        vertical-align: top;\n",
       "    }\n",
       "\n",
       "    .dataframe thead th {\n",
       "        text-align: right;\n",
       "    }\n",
       "</style>\n",
       "<table border=\"1\" class=\"dataframe\">\n",
       "  <thead>\n",
       "    <tr style=\"text-align: right;\">\n",
       "      <th></th>\n",
       "      <th>Feature</th>\n",
       "      <th>Importance_lr</th>\n",
       "    </tr>\n",
       "  </thead>\n",
       "  <tbody>\n",
       "    <tr>\n",
       "      <th>4</th>\n",
       "      <td>Insulin</td>\n",
       "      <td>0.000465</td>\n",
       "    </tr>\n",
       "    <tr>\n",
       "      <th>3</th>\n",
       "      <td>SkinThickness</td>\n",
       "      <td>0.036150</td>\n",
       "    </tr>\n",
       "    <tr>\n",
       "      <th>2</th>\n",
       "      <td>BloodPressure</td>\n",
       "      <td>0.149817</td>\n",
       "    </tr>\n",
       "    <tr>\n",
       "      <th>7</th>\n",
       "      <td>Age</td>\n",
       "      <td>0.282671</td>\n",
       "    </tr>\n",
       "    <tr>\n",
       "      <th>6</th>\n",
       "      <td>DiabetesPedigreeFunction</td>\n",
       "      <td>0.377165</td>\n",
       "    </tr>\n",
       "    <tr>\n",
       "      <th>0</th>\n",
       "      <td>Pregnancies</td>\n",
       "      <td>0.388776</td>\n",
       "    </tr>\n",
       "    <tr>\n",
       "      <th>5</th>\n",
       "      <td>BMI</td>\n",
       "      <td>0.804934</td>\n",
       "    </tr>\n",
       "    <tr>\n",
       "      <th>1</th>\n",
       "      <td>Glucose</td>\n",
       "      <td>1.072227</td>\n",
       "    </tr>\n",
       "  </tbody>\n",
       "</table>\n",
       "</div>"
      ],
      "text/plain": [
       "                    Feature  Importance_lr\n",
       "4                   Insulin       0.000465\n",
       "3             SkinThickness       0.036150\n",
       "2             BloodPressure       0.149817\n",
       "7                       Age       0.282671\n",
       "6  DiabetesPedigreeFunction       0.377165\n",
       "0               Pregnancies       0.388776\n",
       "5                       BMI       0.804934\n",
       "1                   Glucose       1.072227"
      ]
     },
     "execution_count": 76,
     "metadata": {},
     "output_type": "execute_result"
    }
   ],
   "source": [
    "feature_importance_lr"
   ]
  },
  {
   "cell_type": "markdown",
   "id": "d59e3630",
   "metadata": {},
   "source": [
    "Feature importance of the Logistic Regression.<br>\n",
    "Compare absolute values of the coefficients as shown above. (in Logistics Regression).<br>\n",
    "Similarly, create plots as below."
   ]
  },
  {
   "cell_type": "code",
   "execution_count": 68,
   "id": "5a60e882",
   "metadata": {},
   "outputs": [
    {
     "data": {
      "text/plain": [
       "<Axes: ylabel='Feature'>"
      ]
     },
     "execution_count": 68,
     "metadata": {},
     "output_type": "execute_result"
    },
    {
     "data": {
      "image/png": "[encoded data removed]",
      "text/plain": [
       "<Figure size 500x300 with 1 Axes>"
      ]
     },
     "metadata": {},
     "output_type": "display_data"
    }
   ],
   "source": [
    "clf_dt.feature_importances_\n",
    "feature_importance_dt = pd.DataFrame({'Feature': X.columns, 'Importance_dt': clf_dt.feature_importances_})\n",
    "feature_importance_dt = feature_importance_dt.sort_values('Importance_dt', ascending=True)\n",
    "feature_importance_dt.plot(x='Feature', y='Importance_dt', kind='barh', figsize=(5, 3))"
   ]
  },
  {
   "cell_type": "code",
   "execution_count": 79,
   "id": "e6b2d697",
   "metadata": {},
   "outputs": [
    {
     "data": {
      "text/html": [
       "<div>\n",
       "<style scoped>\n",
       "    .dataframe tbody tr th:only-of-type {\n",
       "        vertical-align: middle;\n",
       "    }\n",
       "\n",
       "    .dataframe tbody tr th {\n",
       "        vertical-align: top;\n",
       "    }\n",
       "\n",
       "    .dataframe thead th {\n",
       "        text-align: right;\n",
       "    }\n",
       "</style>\n",
       "<table border=\"1\" class=\"dataframe\">\n",
       "  <thead>\n",
       "    <tr style=\"text-align: right;\">\n",
       "      <th></th>\n",
       "      <th>Feature</th>\n",
       "      <th>Importance_dt</th>\n",
       "    </tr>\n",
       "  </thead>\n",
       "  <tbody>\n",
       "    <tr>\n",
       "      <th>2</th>\n",
       "      <td>BloodPressure</td>\n",
       "      <td>0.000000</td>\n",
       "    </tr>\n",
       "    <tr>\n",
       "      <th>3</th>\n",
       "      <td>SkinThickness</td>\n",
       "      <td>0.000000</td>\n",
       "    </tr>\n",
       "    <tr>\n",
       "      <th>4</th>\n",
       "      <td>Insulin</td>\n",
       "      <td>0.000000</td>\n",
       "    </tr>\n",
       "    <tr>\n",
       "      <th>6</th>\n",
       "      <td>DiabetesPedigreeFunction</td>\n",
       "      <td>0.000000</td>\n",
       "    </tr>\n",
       "    <tr>\n",
       "      <th>0</th>\n",
       "      <td>Pregnancies</td>\n",
       "      <td>0.027072</td>\n",
       "    </tr>\n",
       "    <tr>\n",
       "      <th>7</th>\n",
       "      <td>Age</td>\n",
       "      <td>0.155572</td>\n",
       "    </tr>\n",
       "    <tr>\n",
       "      <th>5</th>\n",
       "      <td>BMI</td>\n",
       "      <td>0.224447</td>\n",
       "    </tr>\n",
       "    <tr>\n",
       "      <th>1</th>\n",
       "      <td>Glucose</td>\n",
       "      <td>0.592909</td>\n",
       "    </tr>\n",
       "  </tbody>\n",
       "</table>\n",
       "</div>"
      ],
      "text/plain": [
       "                    Feature  Importance_dt\n",
       "2             BloodPressure       0.000000\n",
       "3             SkinThickness       0.000000\n",
       "4                   Insulin       0.000000\n",
       "6  DiabetesPedigreeFunction       0.000000\n",
       "0               Pregnancies       0.027072\n",
       "7                       Age       0.155572\n",
       "5                       BMI       0.224447\n",
       "1                   Glucose       0.592909"
      ]
     },
     "execution_count": 79,
     "metadata": {},
     "output_type": "execute_result"
    }
   ],
   "source": [
    "feature_importance_dt"
   ]
  },
  {
   "cell_type": "markdown",
   "id": "f378ffb5",
   "metadata": {},
   "source": [
    "Feature importance of the Decision Tree."
   ]
  },
  {
   "cell_type": "code",
   "execution_count": 78,
   "id": "5b92adfd",
   "metadata": {},
   "outputs": [
    {
     "data": {
      "text/plain": [
       "<Axes: ylabel='Feature'>"
      ]
     },
     "execution_count": 78,
     "metadata": {},
     "output_type": "execute_result"
    },
    {
     "data": {
      "image/png": "[encoded data removed]",
      "text/plain": [
       "<Figure size 500x300 with 1 Axes>"
      ]
     },
     "metadata": {},
     "output_type": "display_data"
    }
   ],
   "source": [
    "clf_rf.feature_importances_\n",
    "feature_importance_rf = pd.DataFrame({'Feature': X.columns, 'Importance_rf': clf_rf.feature_importances_})\n",
    "feature_importance_rf = feature_importance_rf.sort_values('Importance_rf', ascending=True)\n",
    "feature_importance_rf.plot(x='Feature', y='Importance_rf', kind='barh', figsize=(5, 3))"
   ]
  },
  {
   "cell_type": "code",
   "execution_count": 80,
   "id": "bac3b3d1",
   "metadata": {},
   "outputs": [
    {
     "data": {
      "text/html": [
       "<div>\n",
       "<style scoped>\n",
       "    .dataframe tbody tr th:only-of-type {\n",
       "        vertical-align: middle;\n",
       "    }\n",
       "\n",
       "    .dataframe tbody tr th {\n",
       "        vertical-align: top;\n",
       "    }\n",
       "\n",
       "    .dataframe thead th {\n",
       "        text-align: right;\n",
       "    }\n",
       "</style>\n",
       "<table border=\"1\" class=\"dataframe\">\n",
       "  <thead>\n",
       "    <tr style=\"text-align: right;\">\n",
       "      <th></th>\n",
       "      <th>Feature</th>\n",
       "      <th>Importance_rf</th>\n",
       "    </tr>\n",
       "  </thead>\n",
       "  <tbody>\n",
       "    <tr>\n",
       "      <th>3</th>\n",
       "      <td>SkinThickness</td>\n",
       "      <td>0.065498</td>\n",
       "    </tr>\n",
       "    <tr>\n",
       "      <th>4</th>\n",
       "      <td>Insulin</td>\n",
       "      <td>0.070913</td>\n",
       "    </tr>\n",
       "    <tr>\n",
       "      <th>0</th>\n",
       "      <td>Pregnancies</td>\n",
       "      <td>0.081304</td>\n",
       "    </tr>\n",
       "    <tr>\n",
       "      <th>2</th>\n",
       "      <td>BloodPressure</td>\n",
       "      <td>0.087852</td>\n",
       "    </tr>\n",
       "    <tr>\n",
       "      <th>6</th>\n",
       "      <td>DiabetesPedigreeFunction</td>\n",
       "      <td>0.124190</td>\n",
       "    </tr>\n",
       "    <tr>\n",
       "      <th>7</th>\n",
       "      <td>Age</td>\n",
       "      <td>0.140392</td>\n",
       "    </tr>\n",
       "    <tr>\n",
       "      <th>5</th>\n",
       "      <td>BMI</td>\n",
       "      <td>0.172095</td>\n",
       "    </tr>\n",
       "    <tr>\n",
       "      <th>1</th>\n",
       "      <td>Glucose</td>\n",
       "      <td>0.257756</td>\n",
       "    </tr>\n",
       "  </tbody>\n",
       "</table>\n",
       "</div>"
      ],
      "text/plain": [
       "                    Feature  Importance_rf\n",
       "3             SkinThickness       0.065498\n",
       "4                   Insulin       0.070913\n",
       "0               Pregnancies       0.081304\n",
       "2             BloodPressure       0.087852\n",
       "6  DiabetesPedigreeFunction       0.124190\n",
       "7                       Age       0.140392\n",
       "5                       BMI       0.172095\n",
       "1                   Glucose       0.257756"
      ]
     },
     "execution_count": 80,
     "metadata": {},
     "output_type": "execute_result"
    }
   ],
   "source": [
    "feature_importance_rf"
   ]
  },
  {
   "cell_type": "markdown",
   "id": "d9f36a9a",
   "metadata": {},
   "source": [
    "## Problem 4. Check model performance on new data (test performance)\n",
    "\n",
    "Today, 70 new patients arrived in our hospital, so you want to check your model performance on new samples.\n",
    "The labels of new instances were obtained by diagnosis of experienced doctors.\n",
    "\n",
    "The test data named `diabetes_test.csv` is located in the same forder."
   ]
  },
  {
   "cell_type": "code",
   "execution_count": 50,
   "id": "581c8e18",
   "metadata": {},
   "outputs": [
    {
     "data": {
      "text/html": [
       "<div>\n",
       "<style scoped>\n",
       "    .dataframe tbody tr th:only-of-type {\n",
       "        vertical-align: middle;\n",
       "    }\n",
       "\n",
       "    .dataframe tbody tr th {\n",
       "        vertical-align: top;\n",
       "    }\n",
       "\n",
       "    .dataframe thead th {\n",
       "        text-align: right;\n",
       "    }\n",
       "</style>\n",
       "<table border=\"1\" class=\"dataframe\">\n",
       "  <thead>\n",
       "    <tr style=\"text-align: right;\">\n",
       "      <th></th>\n",
       "      <th>Pregnancies</th>\n",
       "      <th>Glucose</th>\n",
       "      <th>BloodPressure</th>\n",
       "      <th>SkinThickness</th>\n",
       "      <th>Insulin</th>\n",
       "      <th>BMI</th>\n",
       "      <th>DiabetesPedigreeFunction</th>\n",
       "      <th>Age</th>\n",
       "      <th>Outcome</th>\n",
       "    </tr>\n",
       "  </thead>\n",
       "  <tbody>\n",
       "    <tr>\n",
       "      <th>0</th>\n",
       "      <td>2</td>\n",
       "      <td>99</td>\n",
       "      <td>60</td>\n",
       "      <td>17</td>\n",
       "      <td>160</td>\n",
       "      <td>36.6</td>\n",
       "      <td>0.453</td>\n",
       "      <td>21</td>\n",
       "      <td>0</td>\n",
       "    </tr>\n",
       "    <tr>\n",
       "      <th>1</th>\n",
       "      <td>1</td>\n",
       "      <td>102</td>\n",
       "      <td>74</td>\n",
       "      <td>0</td>\n",
       "      <td>0</td>\n",
       "      <td>39.5</td>\n",
       "      <td>0.293</td>\n",
       "      <td>42</td>\n",
       "      <td>1</td>\n",
       "    </tr>\n",
       "    <tr>\n",
       "      <th>2</th>\n",
       "      <td>11</td>\n",
       "      <td>120</td>\n",
       "      <td>80</td>\n",
       "      <td>37</td>\n",
       "      <td>150</td>\n",
       "      <td>42.3</td>\n",
       "      <td>0.785</td>\n",
       "      <td>48</td>\n",
       "      <td>1</td>\n",
       "    </tr>\n",
       "    <tr>\n",
       "      <th>3</th>\n",
       "      <td>3</td>\n",
       "      <td>102</td>\n",
       "      <td>44</td>\n",
       "      <td>20</td>\n",
       "      <td>94</td>\n",
       "      <td>30.8</td>\n",
       "      <td>0.400</td>\n",
       "      <td>26</td>\n",
       "      <td>0</td>\n",
       "    </tr>\n",
       "    <tr>\n",
       "      <th>4</th>\n",
       "      <td>1</td>\n",
       "      <td>109</td>\n",
       "      <td>58</td>\n",
       "      <td>18</td>\n",
       "      <td>116</td>\n",
       "      <td>28.5</td>\n",
       "      <td>0.219</td>\n",
       "      <td>22</td>\n",
       "      <td>0</td>\n",
       "    </tr>\n",
       "    <tr>\n",
       "      <th>...</th>\n",
       "      <td>...</td>\n",
       "      <td>...</td>\n",
       "      <td>...</td>\n",
       "      <td>...</td>\n",
       "      <td>...</td>\n",
       "      <td>...</td>\n",
       "      <td>...</td>\n",
       "      <td>...</td>\n",
       "      <td>...</td>\n",
       "    </tr>\n",
       "    <tr>\n",
       "      <th>65</th>\n",
       "      <td>0</td>\n",
       "      <td>134</td>\n",
       "      <td>58</td>\n",
       "      <td>20</td>\n",
       "      <td>291</td>\n",
       "      <td>26.4</td>\n",
       "      <td>0.352</td>\n",
       "      <td>21</td>\n",
       "      <td>0</td>\n",
       "    </tr>\n",
       "    <tr>\n",
       "      <th>66</th>\n",
       "      <td>3</td>\n",
       "      <td>102</td>\n",
       "      <td>74</td>\n",
       "      <td>0</td>\n",
       "      <td>0</td>\n",
       "      <td>29.5</td>\n",
       "      <td>0.121</td>\n",
       "      <td>32</td>\n",
       "      <td>0</td>\n",
       "    </tr>\n",
       "    <tr>\n",
       "      <th>67</th>\n",
       "      <td>7</td>\n",
       "      <td>187</td>\n",
       "      <td>50</td>\n",
       "      <td>33</td>\n",
       "      <td>392</td>\n",
       "      <td>33.9</td>\n",
       "      <td>0.826</td>\n",
       "      <td>34</td>\n",
       "      <td>1</td>\n",
       "    </tr>\n",
       "    <tr>\n",
       "      <th>68</th>\n",
       "      <td>3</td>\n",
       "      <td>173</td>\n",
       "      <td>78</td>\n",
       "      <td>39</td>\n",
       "      <td>185</td>\n",
       "      <td>33.8</td>\n",
       "      <td>0.970</td>\n",
       "      <td>31</td>\n",
       "      <td>1</td>\n",
       "    </tr>\n",
       "    <tr>\n",
       "      <th>69</th>\n",
       "      <td>10</td>\n",
       "      <td>94</td>\n",
       "      <td>72</td>\n",
       "      <td>18</td>\n",
       "      <td>0</td>\n",
       "      <td>23.1</td>\n",
       "      <td>0.595</td>\n",
       "      <td>56</td>\n",
       "      <td>0</td>\n",
       "    </tr>\n",
       "  </tbody>\n",
       "</table>\n",
       "<p>70 rows × 9 columns</p>\n",
       "</div>"
      ],
      "text/plain": [
       "    Pregnancies  Glucose  BloodPressure  SkinThickness  Insulin   BMI  \\\n",
       "0             2       99             60             17      160  36.6   \n",
       "1             1      102             74              0        0  39.5   \n",
       "2            11      120             80             37      150  42.3   \n",
       "3             3      102             44             20       94  30.8   \n",
       "4             1      109             58             18      116  28.5   \n",
       "..          ...      ...            ...            ...      ...   ...   \n",
       "65            0      134             58             20      291  26.4   \n",
       "66            3      102             74              0        0  29.5   \n",
       "67            7      187             50             33      392  33.9   \n",
       "68            3      173             78             39      185  33.8   \n",
       "69           10       94             72             18        0  23.1   \n",
       "\n",
       "    DiabetesPedigreeFunction  Age  Outcome  \n",
       "0                      0.453   21        0  \n",
       "1                      0.293   42        1  \n",
       "2                      0.785   48        1  \n",
       "3                      0.400   26        0  \n",
       "4                      0.219   22        0  \n",
       "..                       ...  ...      ...  \n",
       "65                     0.352   21        0  \n",
       "66                     0.121   32        0  \n",
       "67                     0.826   34        1  \n",
       "68                     0.970   31        1  \n",
       "69                     0.595   56        0  \n",
       "\n",
       "[70 rows x 9 columns]"
      ]
     },
     "execution_count": 50,
     "metadata": {},
     "output_type": "execute_result"
    }
   ],
   "source": [
    "df_test = pd.read_csv('diabetes_test.csv')\n",
    "df_test"
   ]
  },
  {
   "cell_type": "markdown",
   "id": "ee3e242c",
   "metadata": {},
   "source": [
    "Define `X` and `y` of test data."
   ]
  },
  {
   "cell_type": "code",
   "execution_count": 51,
   "id": "9097ae8d",
   "metadata": {},
   "outputs": [],
   "source": [
    "X_test = df_test.iloc[:, :-1]\n",
    "y_test = df_test.iloc[:, -1]"
   ]
  },
  {
   "cell_type": "markdown",
   "id": "8f7fdd1a",
   "metadata": {},
   "source": [
    "Test your classifiers on the test data and draw a plot containing ROC curves and AUC scores of the models obtained in the Problem 2.\n",
    "* (warning) Don't forget normalization using `scaler` before inputting your data into the model. Or, your results may be not good...\n",
    "* Use `plt.savefig('roc.png')` to save the plot to the file named `roc.png`."
   ]
  },
  {
   "cell_type": "code",
   "execution_count": 57,
   "id": "66a9c68d",
   "metadata": {},
   "outputs": [],
   "source": [
    "X_test_norm = scaler.transform(X_test)"
   ]
  },
  {
   "cell_type": "code",
   "execution_count": 58,
   "id": "03711757",
   "metadata": {},
   "outputs": [
    {
     "name": "stdout",
     "output_type": "stream",
     "text": [
      "Evaluation on Validation Set with Decision Tree:\n",
      "Accuracy: 75.71%\n",
      "Precision: 81.25%\n",
      "Recall: 48.15%\n",
      "Fscore: 60.47%\n",
      "Evaluation on Validation Set with Random Forest:\n",
      "Accuracy: 74.29%\n",
      "Precision: 73.68%\n",
      "Recall: 51.85%\n",
      "Fscore: 60.87%\n",
      "Evaluation on Validation Set with Logistic Regression:\n",
      "Accuracy: 78.57%\n",
      "Precision: 83.33%\n",
      "Recall: 55.56%\n",
      "Fscore: 66.67%\n",
      "trainining finished.\n"
     ]
    }
   ],
   "source": [
    "y_test_pred = clf_dt.predict(X_test_norm)\n",
    "print('Evaluation on Validation Set with Decision Tree:')\n",
    "evaluate(y_test, y_test_pred)\n",
    "\n",
    "y_test_pred = clf_rf.predict(X_test_norm)\n",
    "print('Evaluation on Validation Set with Random Forest:')\n",
    "evaluate(y_test, y_test_pred)\n",
    "\n",
    "y_test_pred = clf_lr.predict(X_test_norm)\n",
    "print('Evaluation on Validation Set with Logistic Regression:')\n",
    "evaluate(y_test, y_test_pred)\n",
    "\n",
    "print('trainining finished.')"
   ]
  },
  {
   "cell_type": "code",
   "execution_count": 84,
   "id": "1fa3913f",
   "metadata": {},
   "outputs": [
    {
     "data": {
      "image/png": "[encoded data removed]",
      "text/plain": [
       "<Figure size 640x480 with 1 Axes>"
      ]
     },
     "metadata": {},
     "output_type": "display_data"
    }
   ],
   "source": [
    "from sklearn.metrics import roc_curve, roc_auc_score\n",
    "import matplotlib.pyplot as plt\n",
    "\n",
    "for clf, name in zip([clf_dt, clf_lr, clf_rf], \n",
    "                     ['Decision Tree', 'Logistic Regression', 'Random Forest']):\n",
    "    y_test_pred_proba = clf.predict_proba(X_test_norm)[:, 1] # probability score of positive class\n",
    "    fpr, tpr, _ = roc_curve(y_test,  y_test_pred_proba) # get fpr and tpr arrays\n",
    "    auc = roc_auc_score(y_test, y_test_pred_proba) # get auc\n",
    "    plt.plot(fpr, tpr, label=\"{}, auc={:.2f}\".format(name, auc))\n",
    "\n",
    "plt.legend(loc=4)\n",
    "plt.xlabel('1-Specificity (FPR)')\n",
    "plt.ylabel('Sensitivity (TPR)')\n",
    "plt.title('ROC Curve')\n",
    "plt.savefig('roc.png')\n",
    "plt.show()"
   ]
  },
  {
   "cell_type": "code",
   "execution_count": null,
   "id": "1deeadb0",
   "metadata": {},
   "outputs": [],
   "source": []
  }
 ],
 "metadata": {
  "kernelspec": {
   "display_name": "Python 3 (ipykernel)",
   "language": "python",
   "name": "python3"
  },
  "language_info": {
   "codemirror_mode": {
    "name": "ipython",
    "version": 3
   },
   "file_extension": ".py",
   "mimetype": "text/x-python",
   "name": "python",
   "nbconvert_exporter": "python",
   "pygments_lexer": "ipython3",
   "version": "3.10.9"
  }
 },
 "nbformat": 4,
 "nbformat_minor": 5
}
