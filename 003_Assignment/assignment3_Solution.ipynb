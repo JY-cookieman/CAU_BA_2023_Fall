{
 "cells": [
  {
   "cell_type": "markdown",
   "id": "7ae592c2",
   "metadata": {},
   "source": [
    "# Assignment 3. Wine Quality Prediction\n",
    "\n",
    "The assignment is to develop a regression model to predict wine quality score.\n",
    "\n",
    "The dataset consists of 11 predictor variables and one target variable, `quality`. Predictor variables are listed below:\n",
    "\n",
    "- fixed_acidity (고정 산성도)\n",
    "- volatile_acidity (휘발성 산성도)\n",
    "- critic_acid (구연산)\n",
    "- sugar (잔당)\n",
    "- chloride (염화물)\n",
    "- free_sulfer_dioxide (자유 이상화황)\n",
    "- total_sulfer_dioxide (총 이산화황)\n",
    "- density (밀도)\n",
    "- acidity (산도)\n",
    "- sulfate (황산염)\n",
    "- alcohol (알코올)\n",
    "\n",
    "Can you build a machine learning model to accurately predict the quality scores of given wines?\n",
    "\n",
    "First, let's load the data. The training and test data files are located in the same folder.\n",
    "- training data: `wine_quality_train.csv` (4,000 samples)\n",
    "- test data: `wine_quality_test.csv` (898 samples) "
   ]
  },
  {
   "cell_type": "code",
   "execution_count": 1,
   "id": "3cde9cb0",
   "metadata": {},
   "outputs": [
    {
     "data": {
      "text/html": [
       "<div>\n",
       "<style scoped>\n",
       "    .dataframe tbody tr th:only-of-type {\n",
       "        vertical-align: middle;\n",
       "    }\n",
       "\n",
       "    .dataframe tbody tr th {\n",
       "        vertical-align: top;\n",
       "    }\n",
       "\n",
       "    .dataframe thead th {\n",
       "        text-align: right;\n",
       "    }\n",
       "</style>\n",
       "<table border=\"1\" class=\"dataframe\">\n",
       "  <thead>\n",
       "    <tr style=\"text-align: right;\">\n",
       "      <th></th>\n",
       "      <th>fixed_acidity</th>\n",
       "      <th>volatile_acidity</th>\n",
       "      <th>critic_acid</th>\n",
       "      <th>sugar</th>\n",
       "      <th>chloride</th>\n",
       "      <th>free_sulfer_dioxide</th>\n",
       "      <th>total_sulfer_dioxide</th>\n",
       "      <th>density</th>\n",
       "      <th>acidity</th>\n",
       "      <th>sulfate</th>\n",
       "      <th>alcohol</th>\n",
       "      <th>quality</th>\n",
       "    </tr>\n",
       "  </thead>\n",
       "  <tbody>\n",
       "    <tr>\n",
       "      <th>0</th>\n",
       "      <td>7.0</td>\n",
       "      <td>0.27</td>\n",
       "      <td>0.36</td>\n",
       "      <td>20.7</td>\n",
       "      <td>0.045</td>\n",
       "      <td>45.0</td>\n",
       "      <td>170.0</td>\n",
       "      <td>1.0010</td>\n",
       "      <td>3.00</td>\n",
       "      <td>0.45</td>\n",
       "      <td>8.8</td>\n",
       "      <td>6</td>\n",
       "    </tr>\n",
       "    <tr>\n",
       "      <th>1</th>\n",
       "      <td>6.3</td>\n",
       "      <td>0.30</td>\n",
       "      <td>0.34</td>\n",
       "      <td>1.6</td>\n",
       "      <td>0.049</td>\n",
       "      <td>14.0</td>\n",
       "      <td>132.0</td>\n",
       "      <td>0.9940</td>\n",
       "      <td>3.30</td>\n",
       "      <td>0.49</td>\n",
       "      <td>9.5</td>\n",
       "      <td>6</td>\n",
       "    </tr>\n",
       "    <tr>\n",
       "      <th>2</th>\n",
       "      <td>8.1</td>\n",
       "      <td>0.28</td>\n",
       "      <td>0.40</td>\n",
       "      <td>6.9</td>\n",
       "      <td>0.050</td>\n",
       "      <td>30.0</td>\n",
       "      <td>97.0</td>\n",
       "      <td>0.9951</td>\n",
       "      <td>3.26</td>\n",
       "      <td>0.44</td>\n",
       "      <td>10.1</td>\n",
       "      <td>6</td>\n",
       "    </tr>\n",
       "    <tr>\n",
       "      <th>3</th>\n",
       "      <td>7.2</td>\n",
       "      <td>0.23</td>\n",
       "      <td>0.32</td>\n",
       "      <td>8.5</td>\n",
       "      <td>0.058</td>\n",
       "      <td>47.0</td>\n",
       "      <td>186.0</td>\n",
       "      <td>0.9956</td>\n",
       "      <td>3.19</td>\n",
       "      <td>0.40</td>\n",
       "      <td>9.9</td>\n",
       "      <td>6</td>\n",
       "    </tr>\n",
       "    <tr>\n",
       "      <th>4</th>\n",
       "      <td>7.2</td>\n",
       "      <td>0.23</td>\n",
       "      <td>0.32</td>\n",
       "      <td>8.5</td>\n",
       "      <td>0.058</td>\n",
       "      <td>47.0</td>\n",
       "      <td>186.0</td>\n",
       "      <td>0.9956</td>\n",
       "      <td>3.19</td>\n",
       "      <td>0.40</td>\n",
       "      <td>9.9</td>\n",
       "      <td>6</td>\n",
       "    </tr>\n",
       "  </tbody>\n",
       "</table>\n",
       "</div>"
      ],
      "text/plain": [
       "   fixed_acidity  volatile_acidity  critic_acid  sugar  chloride  \\\n",
       "0            7.0              0.27         0.36   20.7     0.045   \n",
       "1            6.3              0.30         0.34    1.6     0.049   \n",
       "2            8.1              0.28         0.40    6.9     0.050   \n",
       "3            7.2              0.23         0.32    8.5     0.058   \n",
       "4            7.2              0.23         0.32    8.5     0.058   \n",
       "\n",
       "   free_sulfer_dioxide  total_sulfer_dioxide  density  acidity  sulfate  \\\n",
       "0                 45.0                 170.0   1.0010     3.00     0.45   \n",
       "1                 14.0                 132.0   0.9940     3.30     0.49   \n",
       "2                 30.0                  97.0   0.9951     3.26     0.44   \n",
       "3                 47.0                 186.0   0.9956     3.19     0.40   \n",
       "4                 47.0                 186.0   0.9956     3.19     0.40   \n",
       "\n",
       "   alcohol  quality  \n",
       "0      8.8        6  \n",
       "1      9.5        6  \n",
       "2     10.1        6  \n",
       "3      9.9        6  \n",
       "4      9.9        6  "
      ]
     },
     "execution_count": 1,
     "metadata": {},
     "output_type": "execute_result"
    }
   ],
   "source": [
    "import pandas as pd\n",
    "\n",
    "df = pd.read_csv('wine_quality_train.csv')\n",
    "df.head()"
   ]
  },
  {
   "cell_type": "code",
   "execution_count": 2,
   "id": "c378fd1b",
   "metadata": {},
   "outputs": [
    {
     "data": {
      "text/plain": [
       "Index(['fixed_acidity', 'volatile_acidity', 'critic_acid', 'sugar', 'chloride',\n",
       "       'free_sulfer_dioxide', 'total_sulfer_dioxide', 'density', 'acidity',\n",
       "       'sulfate', 'alcohol', 'quality'],\n",
       "      dtype='object')"
      ]
     },
     "execution_count": 2,
     "metadata": {},
     "output_type": "execute_result"
    }
   ],
   "source": [
    "df.columns"
   ]
  },
  {
   "cell_type": "markdown",
   "id": "a8c3f74d",
   "metadata": {},
   "source": [
    "Define `X` and `y`. Here, `X` and `y` refers to the input and output of our classification models."
   ]
  },
  {
   "cell_type": "code",
   "execution_count": 3,
   "id": "cbd91e3d",
   "metadata": {},
   "outputs": [],
   "source": [
    "X = df.iloc[:, :-1] # or, df[['fixed_acidity', 'volatile_acidity', 'critic_acid', 'sugar', 'chloride','free_sulfer_dioxide', 'total_sulfer_dioxide', 'density', 'acidity', 'sulfate', 'alcohol', ]]\n",
    "y = df.iloc[:, -1]  # or, df['quality']"
   ]
  },
  {
   "cell_type": "markdown",
   "id": "c6d50d59",
   "metadata": {},
   "source": [
    "## Problem 1. Check the average quality value\n",
    "\n",
    "Check the average value of the wine qualitiy of the training data (`y` in the above cell)."
   ]
  },
  {
   "cell_type": "code",
   "execution_count": 8,
   "id": "48bae64f",
   "metadata": {},
   "outputs": [
    {
     "name": "stdout",
     "output_type": "stream",
     "text": [
      "The average value of the wine quality of the training data is 5.87975\n"
     ]
    }
   ],
   "source": [
    "print('The average value of the wine quality of the training data is', y.mean())"
   ]
  },
  {
   "cell_type": "markdown",
   "id": "92f27d4b",
   "metadata": {},
   "source": [
    "## Problem 2. Train Classifiers"
   ]
  },
  {
   "cell_type": "markdown",
   "id": "4dc1e731",
   "metadata": {},
   "source": [
    "First, split the data into training and validation data. This is necessary to avoid overfitting."
   ]
  },
  {
   "cell_type": "code",
   "execution_count": 9,
   "id": "fdde3072",
   "metadata": {},
   "outputs": [],
   "source": [
    "from sklearn.model_selection import train_test_split\n",
    "\n",
    "X_trn, X_val, y_trn, y_val = train_test_split(X, y, test_size=0.3, random_state=0)"
   ]
  },
  {
   "cell_type": "markdown",
   "id": "c56595a6",
   "metadata": {},
   "source": [
    "Apply feature normalization so that all features are considered equal."
   ]
  },
  {
   "cell_type": "code",
   "execution_count": 10,
   "id": "f63b9e23",
   "metadata": {},
   "outputs": [],
   "source": [
    "from sklearn.preprocessing import StandardScaler\n",
    "\n",
    "scaler = StandardScaler()\n",
    "scaler.fit(X_trn)\n",
    "X_trn_norm = scaler.transform(X_trn)\n",
    "X_val_norm = scaler.transform(X_val)"
   ]
  },
  {
   "cell_type": "markdown",
   "id": "d99a9d36",
   "metadata": {},
   "source": [
    "Train decision tree, random forest, and lasso regressiors using the normalized training data. And check the training and validation performances of the model using the root mean squared error (RMSE) measure.\n",
    "* The choice of model parameters (e.g., `max_depth` in decision tree, `n_estimators` in random forest, `alpha` (C) in lasso) is up to you :) Note that the models have their default values (e.g., `max_depth=3`, `n_estimators=100`, `alpha=1`) I recommend you to search over some parameter candidates to find a good model with low validation error!"
   ]
  },
  {
   "cell_type": "code",
   "execution_count": 54,
   "id": "499d4855",
   "metadata": {},
   "outputs": [
    {
     "name": "stdout",
     "output_type": "stream",
     "text": [
      "Model: DecisionTreeRegressor(max_depth=3)       | Training RMSE: 0.766 | Validation RMSE: 0.781\n",
      "Model: RandomForestRegressor()                  | Training RMSE: 0.245 | Validation RMSE: 0.631\n",
      "Model: Lasso(alpha=0.05)                        | Training RMSE: 0.777 | Validation RMSE: 0.785\n"
     ]
    }
   ],
   "source": [
    "from sklearn.tree import DecisionTreeRegressor\n",
    "from sklearn.ensemble import RandomForestRegressor\n",
    "from sklearn.linear_model import LinearRegression, Ridge, Lasso\n",
    "from sklearn.metrics import mean_absolute_error, mean_squared_error\n",
    "\n",
    "regr_dt = DecisionTreeRegressor(max_depth=3)\n",
    "regr_rf = RandomForestRegressor(n_estimators=100)\n",
    "regr_l1 = Lasso(alpha=0.05)\n",
    "\n",
    "for regr in [regr_dt, regr_rf, regr_l1]:\n",
    "    regr.fit(X_trn_norm, y_trn)\n",
    "    y_trn_pred = regr.predict(X_trn_norm)\n",
    "    y_val_pred = regr.predict(X_val_norm)\n",
    "    trn_error = mean_squared_error(y_trn, y_trn_pred, squared=False)\n",
    "    val_error = mean_squared_error(y_val, y_val_pred, squared=False)\n",
    "    print('Model: {:<40} | Training RMSE: {:.3f} | Validation RMSE: {:.3f}'.format(str(regr), trn_error, val_error))\n"
   ]
  },
  {
   "cell_type": "markdown",
   "id": "64f295b6",
   "metadata": {},
   "source": [
    "## Problem 3. Feature importance\n",
    "\n",
    "Remember that linear regression, decision tree, and random forest provide information about which input feature is important to predict the outcome.\n",
    "\n",
    "In our problem of wine quality prediction, which feature is important? explore the model and describe your opinion."
   ]
  },
  {
   "cell_type": "code",
   "execution_count": 55,
   "id": "c7738e23",
   "metadata": {},
   "outputs": [
    {
     "name": "stdout",
     "output_type": "stream",
     "text": [
      "Decision tree\n",
      "fixed_acidity :\t 0.0\n",
      "volatile_acidity :\t 0.2145751484806677\n",
      "critic_acid :\t 0.0\n",
      "sugar :\t 0.0\n",
      "chloride :\t 0.0\n",
      "free_sulfer_dioxide :\t 0.11014626662988432\n",
      "total_sulfer_dioxide :\t 0.0\n",
      "density :\t 0.0\n",
      "acidity :\t 0.0\n",
      "sulfate :\t 0.0\n",
      "alcohol :\t 0.675278584889448\n",
      "\n",
      "Random forest\n",
      "fixed_acidity :\t 0.06598819154503754\n",
      "volatile_acidity :\t 0.12020462927975602\n",
      "critic_acid :\t 0.0588244769976494\n",
      "sugar :\t 0.061652211189837436\n",
      "chloride :\t 0.05858016159837613\n",
      "free_sulfer_dioxide :\t 0.11649009578429906\n",
      "total_sulfer_dioxide :\t 0.07578217451000971\n",
      "density :\t 0.060839640692662594\n",
      "acidity :\t 0.0681443213482706\n",
      "sulfate :\t 0.06698942734823952\n",
      "alcohol :\t 0.246504669705862\n",
      "\n",
      "Lasso\n",
      "fixed_acidity :\t -0.04373442815239976\n",
      "volatile_acidity :\t -0.14786879169185407\n",
      "critic_acid :\t 0.0\n",
      "sugar :\t 0.01469326322097484\n",
      "chloride :\t -0.0\n",
      "free_sulfer_dioxide :\t 0.04967558180604645\n",
      "total_sulfer_dioxide :\t -0.0\n",
      "density :\t -0.0\n",
      "acidity :\t 0.0\n",
      "sulfate :\t 0.011875890193306416\n",
      "alcohol :\t 0.3761415698443209\n"
     ]
    }
   ],
   "source": [
    "print('Decision tree')\n",
    "for col, fi in zip(X.columns, regr_dt.feature_importances_):\n",
    "    print(col, ':\\t', fi)\n",
    "\n",
    "print()\n",
    "print('Random forest')\n",
    "for col, fi in zip(X.columns, regr_rf.feature_importances_):\n",
    "    print(col, ':\\t', fi)\n",
    "    \n",
    "print()\n",
    "print('Lasso')\n",
    "for col, fi in zip(X.columns, regr_l1.coef_):\n",
    "    print(col, ':\\t', fi)\n"
   ]
  },
  {
   "cell_type": "markdown",
   "id": "d9f36a9a",
   "metadata": {},
   "source": [
    "## Problem 4. Check model performance on new data (test performance)\n",
    "\n",
    "In this month, 898 new wine samples arrived in our shop, so you want to check your model performance on new samples.\n",
    "The wine quality \"labels (answers)\" of new wines were obtained from experienced wine critics in the shop.\n",
    "\n",
    "The test data named `wine_quality_test.csv` is located in the same forder."
   ]
  },
  {
   "cell_type": "code",
   "execution_count": 56,
   "id": "581c8e18",
   "metadata": {},
   "outputs": [
    {
     "data": {
      "text/html": [
       "<div>\n",
       "<style scoped>\n",
       "    .dataframe tbody tr th:only-of-type {\n",
       "        vertical-align: middle;\n",
       "    }\n",
       "\n",
       "    .dataframe tbody tr th {\n",
       "        vertical-align: top;\n",
       "    }\n",
       "\n",
       "    .dataframe thead th {\n",
       "        text-align: right;\n",
       "    }\n",
       "</style>\n",
       "<table border=\"1\" class=\"dataframe\">\n",
       "  <thead>\n",
       "    <tr style=\"text-align: right;\">\n",
       "      <th></th>\n",
       "      <th>fixed_acidity</th>\n",
       "      <th>volatile_acidity</th>\n",
       "      <th>critic_acid</th>\n",
       "      <th>sugar</th>\n",
       "      <th>chloride</th>\n",
       "      <th>free_sulfer_dioxide</th>\n",
       "      <th>total_sulfer_dioxide</th>\n",
       "      <th>density</th>\n",
       "      <th>acidity</th>\n",
       "      <th>sulfate</th>\n",
       "      <th>alcohol</th>\n",
       "      <th>quality</th>\n",
       "    </tr>\n",
       "  </thead>\n",
       "  <tbody>\n",
       "    <tr>\n",
       "      <th>0</th>\n",
       "      <td>6.4</td>\n",
       "      <td>0.24</td>\n",
       "      <td>0.49</td>\n",
       "      <td>5.8</td>\n",
       "      <td>0.053</td>\n",
       "      <td>25.0</td>\n",
       "      <td>120.0</td>\n",
       "      <td>0.99420</td>\n",
       "      <td>3.01</td>\n",
       "      <td>0.98</td>\n",
       "      <td>10.5</td>\n",
       "      <td>6</td>\n",
       "    </tr>\n",
       "    <tr>\n",
       "      <th>1</th>\n",
       "      <td>6.4</td>\n",
       "      <td>0.25</td>\n",
       "      <td>0.57</td>\n",
       "      <td>1.0</td>\n",
       "      <td>0.062</td>\n",
       "      <td>21.0</td>\n",
       "      <td>122.0</td>\n",
       "      <td>0.99238</td>\n",
       "      <td>3.00</td>\n",
       "      <td>0.40</td>\n",
       "      <td>9.5</td>\n",
       "      <td>5</td>\n",
       "    </tr>\n",
       "    <tr>\n",
       "      <th>2</th>\n",
       "      <td>6.1</td>\n",
       "      <td>0.25</td>\n",
       "      <td>0.48</td>\n",
       "      <td>15.8</td>\n",
       "      <td>0.052</td>\n",
       "      <td>25.0</td>\n",
       "      <td>94.0</td>\n",
       "      <td>0.99782</td>\n",
       "      <td>3.07</td>\n",
       "      <td>0.45</td>\n",
       "      <td>9.2</td>\n",
       "      <td>6</td>\n",
       "    </tr>\n",
       "    <tr>\n",
       "      <th>3</th>\n",
       "      <td>6.8</td>\n",
       "      <td>0.14</td>\n",
       "      <td>0.35</td>\n",
       "      <td>1.5</td>\n",
       "      <td>0.047</td>\n",
       "      <td>40.0</td>\n",
       "      <td>117.0</td>\n",
       "      <td>0.99111</td>\n",
       "      <td>3.07</td>\n",
       "      <td>0.72</td>\n",
       "      <td>11.1</td>\n",
       "      <td>6</td>\n",
       "    </tr>\n",
       "    <tr>\n",
       "      <th>4</th>\n",
       "      <td>6.5</td>\n",
       "      <td>0.38</td>\n",
       "      <td>0.26</td>\n",
       "      <td>5.2</td>\n",
       "      <td>0.042</td>\n",
       "      <td>33.0</td>\n",
       "      <td>112.0</td>\n",
       "      <td>0.99067</td>\n",
       "      <td>3.06</td>\n",
       "      <td>0.50</td>\n",
       "      <td>12.3</td>\n",
       "      <td>7</td>\n",
       "    </tr>\n",
       "  </tbody>\n",
       "</table>\n",
       "</div>"
      ],
      "text/plain": [
       "   fixed_acidity  volatile_acidity  critic_acid  sugar  chloride  \\\n",
       "0            6.4              0.24         0.49    5.8     0.053   \n",
       "1            6.4              0.25         0.57    1.0     0.062   \n",
       "2            6.1              0.25         0.48   15.8     0.052   \n",
       "3            6.8              0.14         0.35    1.5     0.047   \n",
       "4            6.5              0.38         0.26    5.2     0.042   \n",
       "\n",
       "   free_sulfer_dioxide  total_sulfer_dioxide  density  acidity  sulfate  \\\n",
       "0                 25.0                 120.0  0.99420     3.01     0.98   \n",
       "1                 21.0                 122.0  0.99238     3.00     0.40   \n",
       "2                 25.0                  94.0  0.99782     3.07     0.45   \n",
       "3                 40.0                 117.0  0.99111     3.07     0.72   \n",
       "4                 33.0                 112.0  0.99067     3.06     0.50   \n",
       "\n",
       "   alcohol  quality  \n",
       "0     10.5        6  \n",
       "1      9.5        5  \n",
       "2      9.2        6  \n",
       "3     11.1        6  \n",
       "4     12.3        7  "
      ]
     },
     "execution_count": 56,
     "metadata": {},
     "output_type": "execute_result"
    }
   ],
   "source": [
    "df_test = pd.read_csv('wine_quality_test.csv')\n",
    "df_test.head()"
   ]
  },
  {
   "cell_type": "markdown",
   "id": "ee3e242c",
   "metadata": {},
   "source": [
    "Define `X` and `y` of test data."
   ]
  },
  {
   "cell_type": "code",
   "execution_count": 57,
   "id": "9097ae8d",
   "metadata": {},
   "outputs": [],
   "source": [
    "X_tst = df_test.iloc[:, :-1]\n",
    "y_tst = df_test.iloc[:, -1]"
   ]
  },
  {
   "cell_type": "markdown",
   "id": "1f2209ee",
   "metadata": {},
   "source": [
    "Don't forget to normalize the input data `X_tst` using `scaler` obtained from the training data!"
   ]
  },
  {
   "cell_type": "code",
   "execution_count": 58,
   "id": "7b8b46be",
   "metadata": {},
   "outputs": [],
   "source": [
    "X_tst_norm = scaler.transform(X_tst)"
   ]
  },
  {
   "cell_type": "markdown",
   "id": "8f7fdd1a",
   "metadata": {},
   "source": [
    "Test your regressiors on the test data and get RMSE scores of the models obtained in the Problem 2."
   ]
  },
  {
   "cell_type": "code",
   "execution_count": 59,
   "id": "03711757",
   "metadata": {},
   "outputs": [
    {
     "name": "stdout",
     "output_type": "stream",
     "text": [
      "Model: DecisionTreeRegressor(max_depth=3)       | Test RMSE: 0.683\n",
      "Model: RandomForestRegressor()                  | Test RMSE: 0.650\n",
      "Model: Lasso(alpha=0.05)                        | Test RMSE: 0.702\n"
     ]
    }
   ],
   "source": [
    "for regr in [regr_dt, regr_rf, regr_l1]:\n",
    "    y_tst_pred = regr.predict(X_tst_norm)\n",
    "    tst_error = mean_squared_error(y_tst, y_tst_pred, squared=False)\n",
    "    print('Model: {:<40} | Test RMSE: {:.3f}'.format(str(regr), tst_error))"
   ]
  },
  {
   "cell_type": "code",
   "execution_count": null,
   "id": "3483ae40",
   "metadata": {},
   "outputs": [],
   "source": []
  }
 ],
 "metadata": {
  "kernelspec": {
   "display_name": "Python 3 (ipykernel)",
   "language": "python",
   "name": "python3"
  },
  "language_info": {
   "codemirror_mode": {
    "name": "ipython",
    "version": 3
   },
   "file_extension": ".py",
   "mimetype": "text/x-python",
   "name": "python",
   "nbconvert_exporter": "python",
   "pygments_lexer": "ipython3",
   "version": "3.10.9"
  }
 },
 "nbformat": 4,
 "nbformat_minor": 5
}
