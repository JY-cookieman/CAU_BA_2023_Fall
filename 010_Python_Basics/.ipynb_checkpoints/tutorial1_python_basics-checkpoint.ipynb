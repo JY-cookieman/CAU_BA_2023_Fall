{
 "cells": [
  {
   "cell_type": "markdown",
   "metadata": {
    "id": "XVLYM2V8a4rW"
   },
   "source": [
    "# Module 1: Introduction to Python\n",
    "\n",
    "Python is a high-level programming language with extensive libraries available to perform various data analysis tasks. \n",
    "\n",
    "The following tutorial contains **examples of using various data types, functions, and library modules available in the standard Python library**. Read the step-by-step instructions below carefully. To execute the code, click on each cell below and press the `SHIFT-ENTER` keys simultaneously.\n",
    "\n",
    "<!-- \n",
    "This tutorial consists of the following:\n",
    "1. Assignment\n",
    "2. Print\n",
    "3. Comment\n",
    "...\n",
    " -->"
   ]
  },
  {
   "cell_type": "markdown",
   "metadata": {
    "id": "WgjFX3Q4a4rY"
   },
   "source": [
    "In this tutorial, we will overview the basics in Python.\n",
    "1. Data Types\n",
    "2. Operations\n",
    "3. Control Flows\n",
    "4. Function\n",
    "5. File I/O"
   ]
  },
  {
   "cell_type": "code",
   "execution_count": 1,
   "metadata": {
    "id": "3GKQ1Wx-k12Z"
   },
   "outputs": [],
   "source": [
    "from IPython.display import Image"
   ]
  },
  {
   "cell_type": "markdown",
   "metadata": {
    "id": "UqgAl0kSa4rY"
   },
   "source": [
    "## A Code Sample\n",
    "Readability: enough to understand the code!"
   ]
  },
  {
   "cell_type": "code",
   "execution_count": 2,
   "metadata": {
    "colab": {
     "base_uri": "https://localhost:8080/"
    },
    "id": "5rFl--bea4rZ",
    "outputId": "39098344-1209-444b-8764-ed6cf00839c1"
   },
   "outputs": [
    {
     "name": "stdout",
     "output_type": "stream",
     "text": [
      "x = 12\n",
      "Hello, Jiho Yoon!\n"
     ]
    }
   ],
   "source": [
    "name = 'Jiho Yoon'     # Your name\n",
    "x = 34 - 23            # A comment.\n",
    "y = \"Hello\"            # Another one.\n",
    "z, w = 3.45, -1        # Assign two variables at once\n",
    "if z == 1.23 or y == \"Hello\":\n",
    "    x = x + 1\n",
    "    y = y + \", \" + name + '!'   # String concat.\n",
    "print('x = {}'.format(x))\n",
    "print(y)"
   ]
  },
  {
   "cell_type": "markdown",
   "metadata": {
    "id": "z1QaN4fpa4ra"
   },
   "source": [
    "In the example above, we can find some characteristics of Python syntax.\n",
    "\n",
    "- Indentation matters to code meaning\n",
    "    - Block structure indicated by indentation\n",
    "- `#` for comments\n",
    "    - Start comments with `#`, rest of line is ignored.\n",
    "- First assignment to a variable creates it\n",
    "    - Variable types don’t need to be declared.\n",
    "    - Python figures out the variable types on its own. \n",
    "- Assignment is `=` and comparison is `==`\n",
    "    - Multiple variables can be assigned at once\n",
    "- For numeric operations `+` `-` `*` `/` `%` are as expected\n",
    "    - Special use of `+` for string concatenation\n",
    "- Logical operators are words (`and`, `or`, `not`) not symbols\n",
    "- The basic printing command is `print`\n",
    "     - `{}` for formatting"
   ]
  },
  {
   "cell_type": "markdown",
   "metadata": {
    "id": "1AwUtYEga4ra"
   },
   "source": [
    "---"
   ]
  },
  {
   "cell_type": "markdown",
   "metadata": {
    "id": "AHYDgt0na4ra"
   },
   "source": [
    "## 1.1 Elementary Data Types\n",
    "\n",
    "Every value in Python has a datatype. \n",
    "\n",
    "There are various data types in Python. Some of the important types are listed below.\n",
    "\n",
    "| &nbsp;  |  Data Type | Class | Example | Mutable | Iterable |\n",
    "|:----- -:|:-------|:----------:|:------------|:-------:|:---:|\n",
    "|Atomic   | Integer | `int`    | x = 4       | &nbsp;  | &nbsp;  |\n",
    "| &nbsp;  | Float | `float`    | x = 3.142   | &nbsp;  | &nbsp;  |\n",
    "| &nbsp;  | Boolean | `bool`   | x = True    | &nbsp;  | &nbsp;  |\n",
    "| Sequence    | String | `str`     | x = \"this\" or x = 'this' | &nbsp; | O |\n",
    "| &nbsp;  | List | `list`  | x = [1, 3.3, 'python'] | O | O |\n",
    "| &nbsp;  | Tuple | `tuple`    | x = (6, 'program', False) | &nbsp;  | O |\n",
    "| Collection  | Set | `set`        | x = {7,1,3,6,9} | O | O |\n",
    "| &nbsp;  | Dictionary | `dict` | x = {'a': 1, 'b': 2, 'c': 3} | O | O |"
   ]
  },
  {
   "cell_type": "code",
   "execution_count": 3,
   "metadata": {
    "colab": {
     "base_uri": "https://localhost:8080/"
    },
    "id": "uFeBzEQ1a4rb",
    "outputId": "46b35afe-351c-40ca-c4e0-71689990a4a9"
   },
   "outputs": [
    {
     "name": "stdout",
     "output_type": "stream",
     "text": [
      "6 is of type <class 'int'>\n",
      "3.0 is of type <class 'float'>\n",
      "True is of type <class 'bool'>\n"
     ]
    }
   ],
   "source": [
    "\"\"\"Atomic types\"\"\"\n",
    "a = 6    # integer\n",
    "print(a, \"is of type\", type(a))\n",
    "a = 3.0  # float\n",
    "print(a, \"is of type\", type(a))\n",
    "a = True  # boolean, True or False\n",
    "print(a, \"is of type\", type(a))"
   ]
  },
  {
   "cell_type": "code",
   "execution_count": 4,
   "metadata": {
    "colab": {
     "base_uri": "https://localhost:8080/"
    },
    "id": "DG2HfcMva4rb",
    "outputId": "307c6c9a-b887-47bb-b467-12293c6e9c21"
   },
   "outputs": [
    {
     "name": "stdout",
     "output_type": "stream",
     "text": [
      "this is coffee is of type <class 'str'>\n",
      "[6, 99, 42, 'Apple'] is of type <class 'list'>\n",
      "(6, 'program', False) is of type <class 'tuple'>\n"
     ]
    }
   ],
   "source": [
    "\"\"\"Sequence types\"\"\"\n",
    "mystr = \"this is coffee\" # string\n",
    "print(mystr, \"is of type\", type(mystr))\n",
    "mylist = [6, 99, 42, 'Apple'] # list\n",
    "print(mylist, \"is of type\", type(mylist))\n",
    "mytuple = (6, 'program', False) # tuple\n",
    "print(mytuple, \"is of type\", type(mytuple))"
   ]
  },
  {
   "cell_type": "code",
   "execution_count": 5,
   "metadata": {
    "colab": {
     "base_uri": "https://localhost:8080/"
    },
    "id": "5x7CngJNa4rb",
    "outputId": "b485a771-0a5f-4bb3-f96f-bd948bdd3430"
   },
   "outputs": [
    {
     "name": "stdout",
     "output_type": "stream",
     "text": [
      "{1, 3, 6, 7, 9} is of type <class 'set'>\n",
      "{'a': 1, 'b': 2, 'c': 3} is of type <class 'dict'>\n"
     ]
    }
   ],
   "source": [
    "\"\"\"Collection types\"\"\"\n",
    "myset = {7, 1, 3, 6, 9} # set\n",
    "print(myset, \"is of type\", type(myset))\n",
    "mydict = {'a': 1, 'b': 2, 'c': 3} # dictionary\n",
    "print(mydict, \"is of type\", type(mydict))"
   ]
  },
  {
   "cell_type": "markdown",
   "metadata": {
    "id": "-0Iin0uAa4rb"
   },
   "source": [
    "### List and Tuple\n",
    "The most popular data type that holds multiple pieces of data in sequence. \n",
    "- list and tuple enclosed in brackets `[]` and parenthesis `()`\n",
    "- lists are mutable, while tuple is immutable\n",
    "    - This means tuples cannot be changed while lists can be modified.\n",
    "\n",
    "Indexing of list and tuple\n",
    "- Index starts with `0`. \n",
    "- Items can be accessed by indexing with brackets `[]`.\n",
    "\n",
    "![](./figs/prime.png)"
   ]
  },
  {
   "cell_type": "code",
   "execution_count": 6,
   "metadata": {
    "colab": {
     "base_uri": "https://localhost:8080/"
    },
    "id": "7ZFo40nRa4rc",
    "outputId": "573f5ce1-b75d-4dce-f990-53e117d9a126"
   },
   "outputs": [
    {
     "name": "stdout",
     "output_type": "stream",
     "text": [
      "[2, 3, 5, 7, 11, 13, 17, 19, 23, 29, 31]\n",
      "7\n",
      "23\n",
      "[19, 23]\n",
      "[3, 5, 7, 11, 13, 17, 19]\n",
      "[2, 5, 11, 17, 23]\n",
      "[2, 3, 5, 7, 11]\n"
     ]
    }
   ],
   "source": [
    "# create a list of primes\n",
    "primes_list = [2, 3, 5, 7, 11, 13, 17, 19, 23, 29, 31]\n",
    "print(primes_list)\n",
    "# you can access items in list\n",
    "print(primes_list[3])\n",
    "print(primes_list[-3]) # reverse indexing\n",
    "\n",
    "# Slicing Syntax: `start:stop:step`\n",
    "print(primes_list[7:9])  # slicing\n",
    "print(primes_list[1:-3]) # slicing\n",
    "print(primes_list[0:10:2]) # slicing\n",
    "print(primes_list[:5])   # slicing"
   ]
  },
  {
   "cell_type": "code",
   "execution_count": 7,
   "metadata": {
    "colab": {
     "base_uri": "https://localhost:8080/"
    },
    "id": "OqSCo3Kja4rc",
    "outputId": "f9b787ec-f8b7-484a-fafe-e97524ecaddd"
   },
   "outputs": [
    {
     "name": "stdout",
     "output_type": "stream",
     "text": [
      "(2, 3, 5, 7, 11, 13, 17, 19, 23, 29, 31)\n",
      "(2, 3, 5, 7, 11, 13, 17, 19, 23, 29, 31)\n",
      "7\n",
      "23\n",
      "(19, 23)\n",
      "(3, 5, 7, 11, 13, 17, 19)\n",
      "[2, 5, 11, 17, 23]\n",
      "(2, 3, 5, 7, 11)\n"
     ]
    }
   ],
   "source": [
    "# create a tuple of primes\n",
    "primes_tuple_manually = (2, 3, 5, 7, 11, 13, 17, 19, 23, 29, 31)\n",
    "print(primes_tuple_manually)\n",
    "# or, you can make it using `tuple` method\n",
    "primes_tuple = tuple(primes_list)\n",
    "print(primes_tuple)\n",
    "\n",
    "# you can access items in tuple in the same way\n",
    "print(primes_tuple[3])\n",
    "print(primes_tuple[-3]) # reverse indexing\n",
    "print(primes_tuple[7:9])  # slicing\n",
    "print(primes_tuple[1:-3]) # slicing\n",
    "print(primes_list[0:10:2]) # slicing\n",
    "print(primes_tuple[:5])   # slicing"
   ]
  },
  {
   "cell_type": "code",
   "execution_count": 8,
   "metadata": {
    "colab": {
     "base_uri": "https://localhost:8080/"
    },
    "id": "hW0hBG7fa4rc",
    "outputId": "9b58c216-8110-4802-ce8b-88a9f16b6798"
   },
   "outputs": [
    {
     "name": "stdout",
     "output_type": "stream",
     "text": [
      "[2, 3, 5, 7, 11, 13, 17, 19, 23, 29, 31, 36]\n",
      "[2, 3, 5, 7, 11, 13, 17, 19, 23, 29, 31, 36, 41, 43]\n",
      "[2, 3, 5, 7, 11, 13, 17, 19, 23, 29, 31, 36, 41, 43, 47, 51, 53]\n"
     ]
    }
   ],
   "source": [
    "# add new elements to list\n",
    "primes_list.append(36) # add single item\n",
    "print(primes_list)\n",
    "\n",
    "primes_list.extend([41, 43]) # add multiple item\n",
    "print(primes_list)\n",
    "\n",
    "primes_list = primes_list + [47, 51, 53] # add multiple item\n",
    "# primes_list += [47, 51, 53] # the identical expression\n",
    "print(primes_list)"
   ]
  },
  {
   "cell_type": "code",
   "execution_count": 9,
   "metadata": {
    "colab": {
     "base_uri": "https://localhost:8080/"
    },
    "id": "yEQ5qZ0Ba4rd",
    "outputId": "558f1153-d4f2-4fa2-859f-bf28efaca39e"
   },
   "outputs": [
    {
     "name": "stdout",
     "output_type": "stream",
     "text": [
      "(2, 3, 5, 7, 11, 13, 17, 19, 23, 29, 31, 37, 41, 43)\n"
     ]
    }
   ],
   "source": [
    "# add new elements to tuple\n",
    "primes_tuple = primes_tuple + (37, 41, 43)\n",
    "# primes_tuple += (37, 41, 43) # the identical expression\n",
    "print(primes_tuple)"
   ]
  },
  {
   "cell_type": "markdown",
   "metadata": {
    "id": "5VhfiIC5a4rd"
   },
   "source": [
    "> #### Mutable?\n",
    "> Mutable types have methods for in-place modification, but immutable types do not.\n",
    "> ```python\n",
    "mylist = ['a', 43, 1.234]\n",
    "mylist[0] = -3 # intividual elements in a list can be changed.\n",
    "> ```"
   ]
  },
  {
   "cell_type": "markdown",
   "metadata": {
    "id": "A_AWHSBka4rd"
   },
   "source": [
    "> Note: tuples have no methods like `append` and `extend`"
   ]
  },
  {
   "cell_type": "code",
   "execution_count": 10,
   "metadata": {
    "colab": {
     "base_uri": "https://localhost:8080/",
     "height": 248
    },
    "id": "Oydu4OQ2a4rd",
    "outputId": "1f97720f-06f1-42e9-b6af-c17796918581"
   },
   "outputs": [
    {
     "name": "stdout",
     "output_type": "stream",
     "text": [
      "[2, 3, 5, 7, 11, 13, 17, 19, 23, 29, 31, 37, 41, 43, 47, 51, 53]\n"
     ]
    },
    {
     "ename": "TypeError",
     "evalue": "'tuple' object does not support item assignment",
     "output_type": "error",
     "traceback": [
      "\u001b[1;31m---------------------------------------------------------------------------\u001b[0m",
      "\u001b[1;31mTypeError\u001b[0m                                 Traceback (most recent call last)",
      "\u001b[1;32m~\\AppData\\Local\\Temp/ipykernel_5340/786789013.py\u001b[0m in \u001b[0;36m<module>\u001b[1;34m\u001b[0m\n\u001b[0;32m      4\u001b[0m \u001b[1;33m\u001b[0m\u001b[0m\n\u001b[0;32m      5\u001b[0m \u001b[1;31m# tuples are immutable\u001b[0m\u001b[1;33m\u001b[0m\u001b[1;33m\u001b[0m\u001b[1;33m\u001b[0m\u001b[0m\n\u001b[1;32m----> 6\u001b[1;33m \u001b[0mprimes_tuple\u001b[0m\u001b[1;33m[\u001b[0m\u001b[1;33m-\u001b[0m\u001b[1;36m3\u001b[0m\u001b[1;33m]\u001b[0m \u001b[1;33m=\u001b[0m \u001b[1;36m37\u001b[0m\u001b[1;33m\u001b[0m\u001b[1;33m\u001b[0m\u001b[0m\n\u001b[0m\u001b[0;32m      7\u001b[0m \u001b[0mprint\u001b[0m\u001b[1;33m(\u001b[0m\u001b[0mprimes_list\u001b[0m\u001b[1;33m)\u001b[0m\u001b[1;33m\u001b[0m\u001b[1;33m\u001b[0m\u001b[0m\n",
      "\u001b[1;31mTypeError\u001b[0m: 'tuple' object does not support item assignment"
     ]
    }
   ],
   "source": [
    "# lists are mutable\n",
    "primes_list[-6] = 37   # change the last element\n",
    "print(primes_list)\n",
    "\n",
    "# tuples are immutable\n",
    "primes_tuple[-3] = 37\n",
    "print(primes_list)"
   ]
  },
  {
   "cell_type": "code",
   "execution_count": 11,
   "metadata": {
    "colab": {
     "base_uri": "https://localhost:8080/",
     "height": 193
    },
    "id": "OKeRf3B-a4rd",
    "outputId": "03b85423-e9cb-4411-b2ee-1be02f8df037"
   },
   "outputs": [
    {
     "ename": "AttributeError",
     "evalue": "'tuple' object has no attribute 'append'",
     "output_type": "error",
     "traceback": [
      "\u001b[1;31m---------------------------------------------------------------------------\u001b[0m",
      "\u001b[1;31mAttributeError\u001b[0m                            Traceback (most recent call last)",
      "\u001b[1;32m~\\AppData\\Local\\Temp/ipykernel_5340/989608623.py\u001b[0m in \u001b[0;36m<module>\u001b[1;34m\u001b[0m\n\u001b[0;32m      1\u001b[0m \u001b[1;31m# tuples are immutable\u001b[0m\u001b[1;33m\u001b[0m\u001b[1;33m\u001b[0m\u001b[1;33m\u001b[0m\u001b[0m\n\u001b[1;32m----> 2\u001b[1;33m \u001b[0mprimes_tuple\u001b[0m\u001b[1;33m.\u001b[0m\u001b[0mappend\u001b[0m\u001b[1;33m(\u001b[0m\u001b[1;36m37\u001b[0m\u001b[1;33m,\u001b[0m \u001b[1;33m)\u001b[0m\u001b[1;33m\u001b[0m\u001b[1;33m\u001b[0m\u001b[0m\n\u001b[0m",
      "\u001b[1;31mAttributeError\u001b[0m: 'tuple' object has no attribute 'append'"
     ]
    }
   ],
   "source": [
    "# tuples are immutable\n",
    "primes_tuple.append(37, )"
   ]
  },
  {
   "cell_type": "markdown",
   "metadata": {
    "id": "tus58Ql7a4rd"
   },
   "source": [
    "### String\n",
    "\n",
    "![](./figs/sample.png)\n",
    "- A sequence of characters\n",
    "- Just like a list and tuple, the slicing operator **`[ ]`** can be used with strings. \n",
    "- Strings, however, are **immutable** (characters cannot be modified)."
   ]
  },
  {
   "cell_type": "code",
   "execution_count": 12,
   "metadata": {
    "colab": {
     "base_uri": "https://localhost:8080/",
     "height": 303
    },
    "id": "S3g5gOTSa4re",
    "outputId": "e0cbed41-0f0e-47fd-bd8d-3852723e436e"
   },
   "outputs": [
    {
     "name": "stdout",
     "output_type": "stream",
     "text": [
      "Apple\n",
      "Apple\n",
      "Apple\n",
      "Apple\n"
     ]
    },
    {
     "ename": "NameError",
     "evalue": "name 'Apple' is not defined",
     "output_type": "error",
     "traceback": [
      "\u001b[1;31m---------------------------------------------------------------------------\u001b[0m",
      "\u001b[1;31mNameError\u001b[0m                                 Traceback (most recent call last)",
      "\u001b[1;32m~\\AppData\\Local\\Temp/ipykernel_5340/2927817363.py\u001b[0m in \u001b[0;36m<module>\u001b[1;34m\u001b[0m\n\u001b[0;32m      7\u001b[0m \u001b[0ms\u001b[0m \u001b[1;33m=\u001b[0m \u001b[1;34m\"Apple\"\u001b[0m\u001b[1;33m\u001b[0m\u001b[1;33m\u001b[0m\u001b[0m\n\u001b[0;32m      8\u001b[0m \u001b[0mprint\u001b[0m\u001b[1;33m(\u001b[0m\u001b[0ms\u001b[0m\u001b[1;33m)\u001b[0m\u001b[1;33m\u001b[0m\u001b[1;33m\u001b[0m\u001b[0m\n\u001b[1;32m----> 9\u001b[1;33m \u001b[0ms\u001b[0m \u001b[1;33m=\u001b[0m \u001b[0mApple\u001b[0m   \u001b[1;31m# cannot write string with out quotes ('', \" \", \"\"\" \"\"\", ''' ''')\u001b[0m\u001b[1;33m\u001b[0m\u001b[1;33m\u001b[0m\u001b[0m\n\u001b[0m\u001b[0;32m     10\u001b[0m \u001b[0mprint\u001b[0m\u001b[1;33m(\u001b[0m\u001b[0ms\u001b[0m\u001b[1;33m)\u001b[0m\u001b[1;33m\u001b[0m\u001b[1;33m\u001b[0m\u001b[0m\n",
      "\u001b[1;31mNameError\u001b[0m: name 'Apple' is not defined"
     ]
    }
   ],
   "source": [
    "s = '''Apple'''\n",
    "print(s)\n",
    "s = \"\"\"Apple\"\"\"\n",
    "print(s)\n",
    "s = 'Apple'\n",
    "print(s)\n",
    "s = \"Apple\"\n",
    "print(s)\n",
    "s = Apple   # cannot write string with out quotes ('', \" \", \"\"\" \"\"\", ''' ''')\n",
    "print(s)"
   ]
  },
  {
   "cell_type": "code",
   "execution_count": 13,
   "metadata": {
    "colab": {
     "base_uri": "https://localhost:8080/"
    },
    "id": "BPugDugqa4re",
    "outputId": "4bb6c7ae-8728-43c5-e60a-7550bb2c2319"
   },
   "outputs": [
    {
     "name": "stdout",
     "output_type": "stream",
     "text": [
      "This is a string\n",
      "\n",
      "A multiline\n",
      "string\n"
     ]
    }
   ],
   "source": [
    "s = \"This is a string\"  # s is my variable\n",
    "print(s)\n",
    "print() # empty line\n",
    "s = '''A multiline\n",
    "string'''\n",
    "print(s)"
   ]
  },
  {
   "cell_type": "code",
   "execution_count": 14,
   "metadata": {
    "colab": {
     "base_uri": "https://localhost:8080/"
    },
    "id": "Z3QBZeG0a4re",
    "outputId": "1dcf83d0-9ad1-4098-f678-7ff080e5c78e"
   },
   "outputs": [
    {
     "name": "stdout",
     "output_type": "stream",
     "text": [
      "a\tb\n",
      "a\n",
      "b\n",
      "a\\b\n"
     ]
    }
   ],
   "source": [
    "# escape character code using backslash\n",
    "tab = 'a\\tb'\n",
    "print(tab)\n",
    "enter = 'a\\nb'\n",
    "print(enter)\n",
    "backslash = 'a\\\\b'\n",
    "print(backslash)"
   ]
  },
  {
   "cell_type": "code",
   "execution_count": 15,
   "metadata": {
    "colab": {
     "base_uri": "https://localhost:8080/"
    },
    "id": "VoOj3pZia4re",
    "outputId": "de7e218e-2c38-49a6-ebaf-e95561580456"
   },
   "outputs": [
    {
     "name": "stdout",
     "output_type": "stream",
     "text": [
      "Python is fun!\n"
     ]
    }
   ],
   "source": [
    "# Concatenation\n",
    "head = 'Python'\n",
    "tail = ' is fun!'\n",
    "print(head+tail)"
   ]
  },
  {
   "cell_type": "code",
   "execution_count": 16,
   "metadata": {
    "colab": {
     "base_uri": "https://localhost:8080/"
    },
    "id": "r5JCEtoOa4re",
    "outputId": "970fe1ec-3c7c-423f-b6ee-0086508ca64e"
   },
   "outputs": [
    {
     "name": "stdout",
     "output_type": "stream",
     "text": [
      "s[4] =  o\n",
      "s[6:11] =  world\n"
     ]
    }
   ],
   "source": [
    "s = 'Hello world!' # total 12 elements. Index start from '0' to '11'\n",
    "\n",
    "print(\"s[4] = \", s[4]) # s[4] = 'o'\n",
    "print(\"s[6:11] = \", s[6:11]) # # s[6:11] = 'world' # index '6' to '11' means element from 6 to 10"
   ]
  },
  {
   "cell_type": "code",
   "execution_count": 17,
   "metadata": {
    "colab": {
     "base_uri": "https://localhost:8080/",
     "height": 211
    },
    "id": "a-UVJTa8a4rf",
    "outputId": "b14dc4c2-279e-4ada-c0e1-92b2f8050d87"
   },
   "outputs": [
    {
     "ename": "TypeError",
     "evalue": "'str' object does not support item assignment",
     "output_type": "error",
     "traceback": [
      "\u001b[1;31m---------------------------------------------------------------------------\u001b[0m",
      "\u001b[1;31mTypeError\u001b[0m                                 Traceback (most recent call last)",
      "\u001b[1;32m~\\AppData\\Local\\Temp/ipykernel_5340/2034105543.py\u001b[0m in \u001b[0;36m<module>\u001b[1;34m\u001b[0m\n\u001b[0;32m      1\u001b[0m \u001b[1;31m# Simiar to TUPLE, STRING is immutable\u001b[0m\u001b[1;33m\u001b[0m\u001b[1;33m\u001b[0m\u001b[1;33m\u001b[0m\u001b[0m\n\u001b[0;32m      2\u001b[0m \u001b[0ms\u001b[0m \u001b[1;33m=\u001b[0m \u001b[1;34m\"I'm not mutable\"\u001b[0m\u001b[1;33m\u001b[0m\u001b[1;33m\u001b[0m\u001b[0m\n\u001b[1;32m----> 3\u001b[1;33m \u001b[0ms\u001b[0m\u001b[1;33m[\u001b[0m\u001b[1;36m1\u001b[0m\u001b[1;33m:\u001b[0m\u001b[1;36m7\u001b[0m\u001b[1;33m]\u001b[0m \u001b[1;33m=\u001b[0m \u001b[1;34m\" am\"\u001b[0m\u001b[1;33m\u001b[0m\u001b[1;33m\u001b[0m\u001b[0m\n\u001b[0m",
      "\u001b[1;31mTypeError\u001b[0m: 'str' object does not support item assignment"
     ]
    }
   ],
   "source": [
    "# Simiar to TUPLE, STRING is immutable\n",
    "s = \"I'm not mutable\"\n",
    "s[1:7] = \" am\""
   ]
  },
  {
   "cell_type": "markdown",
   "metadata": {
    "id": "PBmNtWnIa4rf"
   },
   "source": [
    "String formatting"
   ]
  },
  {
   "cell_type": "code",
   "execution_count": 18,
   "metadata": {
    "colab": {
     "base_uri": "https://localhost:8080/"
    },
    "id": "oUEOXam6a4rf",
    "outputId": "e68c8b59-abec-4ab5-bf05-38b1a6f7b0e8"
   },
   "outputs": [
    {
     "name": "stdout",
     "output_type": "stream",
     "text": [
      "Red Alert\n",
      "Red Alert\n",
      "Red Alert Alert Red\n",
      "Red Alert\n"
     ]
    }
   ],
   "source": [
    "adj = \"Red\"\n",
    "noun = \"Alert\"\n",
    "\n",
    "cheese = \"%s %s\" % (adj, noun) # This style was deprecated (PEP 3101)\n",
    "print(cheese)\n",
    "cheese = \"{} {}\".format(adj, noun) # Possible since Python 3\n",
    "print(cheese)\n",
    "cheese = \"{0} {1} {1} {0}\".format(adj, noun) # Numbers can also be reused\n",
    "print(cheese)\n",
    "cheese = \"{adj} {noun}\".format(adj=adj, noun=noun) # using keyword arguments\n",
    "print(cheese)"
   ]
  },
  {
   "cell_type": "markdown",
   "metadata": {
    "id": "gI5byUmGa4rf"
   },
   "source": [
    "### Set\n",
    "Set is an **unordered collection** of **unique** items.\n",
    "- Sets have unique values. They eliminate duplicates.\n",
    "- Since, set are unordered collection, indexing has no meaning. Hence, the slicing operator **`[]`** does not work."
   ]
  },
  {
   "cell_type": "code",
   "execution_count": 19,
   "metadata": {
    "colab": {
     "base_uri": "https://localhost:8080/"
    },
    "id": "GPFknEtUa4rf",
    "outputId": "af5dc832-167d-4d10-93d1-b26379b1f41d"
   },
   "outputs": [
    {
     "name": "stdout",
     "output_type": "stream",
     "text": [
      "{1, 2, 3}\n"
     ]
    }
   ],
   "source": [
    "a = {1,2,2,3,3,3} # we can see total 6 elements \n",
    "print(a) # "
   ]
  },
  {
   "cell_type": "code",
   "execution_count": 20,
   "metadata": {
    "colab": {
     "base_uri": "https://localhost:8080/",
     "height": 174
    },
    "id": "6Fy97MD-a4rf",
    "outputId": "b3a4be08-2b97-458f-a1df-dfa5c4c073f5"
   },
   "outputs": [
    {
     "ename": "TypeError",
     "evalue": "'set' object is not subscriptable",
     "output_type": "error",
     "traceback": [
      "\u001b[1;31m---------------------------------------------------------------------------\u001b[0m",
      "\u001b[1;31mTypeError\u001b[0m                                 Traceback (most recent call last)",
      "\u001b[1;32m~\\AppData\\Local\\Temp/ipykernel_5340/1297225091.py\u001b[0m in \u001b[0;36m<module>\u001b[1;34m\u001b[0m\n\u001b[1;32m----> 1\u001b[1;33m \u001b[0ma\u001b[0m\u001b[1;33m[\u001b[0m\u001b[1;36m1\u001b[0m\u001b[1;33m]\u001b[0m  \u001b[1;31m# Index [1] means 2nd element\u001b[0m\u001b[1;33m\u001b[0m\u001b[1;33m\u001b[0m\u001b[0m\n\u001b[0m",
      "\u001b[1;31mTypeError\u001b[0m: 'set' object is not subscriptable"
     ]
    }
   ],
   "source": [
    "a[1]  # Index [1] means 2nd element"
   ]
  },
  {
   "cell_type": "markdown",
   "metadata": {
    "id": "DDBFKA1ja4rf"
   },
   "source": [
    "We can add new elements using the `add` method."
   ]
  },
  {
   "cell_type": "code",
   "execution_count": 21,
   "metadata": {
    "colab": {
     "base_uri": "https://localhost:8080/"
    },
    "id": "x4v-Hqusa4rg",
    "outputId": "4864d3b4-38c5-4c90-ee91-21c379ee2a16"
   },
   "outputs": [
    {
     "name": "stdout",
     "output_type": "stream",
     "text": [
      "{1, 2, 3, 4}\n"
     ]
    }
   ],
   "source": [
    "a.add(4)\n",
    "print(a)"
   ]
  },
  {
   "cell_type": "markdown",
   "metadata": {
    "id": "bT9CaWjGa4rg"
   },
   "source": [
    "We can perform set operations like union, intersection on two sets. "
   ]
  },
  {
   "cell_type": "code",
   "execution_count": 22,
   "metadata": {
    "colab": {
     "base_uri": "https://localhost:8080/"
    },
    "id": "h7hgF0lja4rg",
    "outputId": "6ebd87dd-15b3-4d2b-a7b3-64ab73be5916"
   },
   "outputs": [
    {
     "name": "stdout",
     "output_type": "stream",
     "text": [
      "{'microsoft', 'apple', 'cherry', 'google', 'banana'}\n",
      "{'apple'}\n"
     ]
    }
   ],
   "source": [
    "x = {\"apple\", \"banana\", \"cherry\"}\n",
    "y = {\"google\", \"microsoft\", \"apple\"}\n",
    "\n",
    "z = x.union(y)\n",
    "print(z)\n",
    "u = x.intersection(y)\n",
    "print(u)"
   ]
  },
  {
   "cell_type": "markdown",
   "metadata": {
    "id": "YwEgk0u3a4rg"
   },
   "source": [
    "### Dictionary\n",
    "![](./figs/dict.png)\n",
    "\n",
    "**Dictionary** is an **unordered collection** of **key-value pairs**.\n",
    "- Dictionaries are optimized for retrieving data. \n",
    "- We must know the key to retrieve the value.\n",
    "- Duplicate keys cannot exist."
   ]
  },
  {
   "cell_type": "code",
   "execution_count": 23,
   "metadata": {
    "colab": {
     "base_uri": "https://localhost:8080/"
    },
    "id": "lASlt_Oqa4rg",
    "outputId": "071f2a62-b49a-494a-c93e-75d0e189d4d0"
   },
   "outputs": [
    {
     "name": "stdout",
     "output_type": "stream",
     "text": [
      "d['a'] =  alpha\n"
     ]
    }
   ],
   "source": [
    "d = {'a': 'alpha', 'o': 'omega', 'g': 'gamma'}  # 'Apple' is element and 1 is the key of element.\n",
    "print(\"d['a'] = \", d['a']); # try to find the element from key."
   ]
  },
  {
   "cell_type": "markdown",
   "metadata": {
    "id": "SDueDUBBa4rg"
   },
   "source": [
    "> Set elements and dictionary keys cannot be mutable."
   ]
  },
  {
   "cell_type": "code",
   "execution_count": 24,
   "metadata": {
    "colab": {
     "base_uri": "https://localhost:8080/",
     "height": 248
    },
    "id": "4LGZW4Qba4rg",
    "outputId": "e6527a11-45bc-4a31-8580-56e5340e6e77"
   },
   "outputs": [
    {
     "name": "stdout",
     "output_type": "stream",
     "text": [
      "{3}\n"
     ]
    },
    {
     "ename": "TypeError",
     "evalue": "unhashable type: 'list'",
     "output_type": "error",
     "traceback": [
      "\u001b[1;31m---------------------------------------------------------------------------\u001b[0m",
      "\u001b[1;31mTypeError\u001b[0m                                 Traceback (most recent call last)",
      "\u001b[1;32m~\\AppData\\Local\\Temp/ipykernel_5340/3221621724.py\u001b[0m in \u001b[0;36m<module>\u001b[1;34m\u001b[0m\n\u001b[0;32m      2\u001b[0m \u001b[0mx\u001b[0m\u001b[1;33m.\u001b[0m\u001b[0madd\u001b[0m\u001b[1;33m(\u001b[0m\u001b[1;36m3\u001b[0m\u001b[1;33m)\u001b[0m   \u001b[1;31m#int is immutable\u001b[0m\u001b[1;33m\u001b[0m\u001b[1;33m\u001b[0m\u001b[0m\n\u001b[0;32m      3\u001b[0m \u001b[0mprint\u001b[0m\u001b[1;33m(\u001b[0m\u001b[0mx\u001b[0m\u001b[1;33m)\u001b[0m\u001b[1;33m\u001b[0m\u001b[1;33m\u001b[0m\u001b[0m\n\u001b[1;32m----> 4\u001b[1;33m \u001b[0mx\u001b[0m\u001b[1;33m.\u001b[0m\u001b[0madd\u001b[0m\u001b[1;33m(\u001b[0m\u001b[1;33m[\u001b[0m\u001b[1;36m3\u001b[0m\u001b[1;33m]\u001b[0m\u001b[1;33m)\u001b[0m \u001b[1;31m#list is mutable\u001b[0m\u001b[1;33m\u001b[0m\u001b[1;33m\u001b[0m\u001b[0m\n\u001b[0m\u001b[0;32m      5\u001b[0m \u001b[0mprint\u001b[0m\u001b[1;33m(\u001b[0m\u001b[0mx\u001b[0m\u001b[1;33m)\u001b[0m\u001b[1;33m\u001b[0m\u001b[1;33m\u001b[0m\u001b[0m\n",
      "\u001b[1;31mTypeError\u001b[0m: unhashable type: 'list'"
     ]
    }
   ],
   "source": [
    "x = set()  #initialization\n",
    "x.add(3)   #int is immutable\n",
    "print(x)\n",
    "x.add([3]) #list is mutable\n",
    "print(x)"
   ]
  },
  {
   "cell_type": "markdown",
   "metadata": {
    "id": "qWqDRDvua4rh"
   },
   "source": [
    "> Iterable data types can be converted into list\n",
    "> - iterable types: string, list, tuple, set, dictionary\n",
    "\n",
    "> Using `len()`, we can get the length of iterable."
   ]
  },
  {
   "cell_type": "code",
   "execution_count": 25,
   "metadata": {
    "colab": {
     "base_uri": "https://localhost:8080/"
    },
    "id": "qwi9Gu5da4rh",
    "outputId": "22169955-9b55-440d-e8a4-37c8b8921ca0"
   },
   "outputs": [
    {
     "data": {
      "text/plain": [
       "['h', 'e', 'l', 'l', 'o']"
      ]
     },
     "execution_count": 25,
     "metadata": {},
     "output_type": "execute_result"
    }
   ],
   "source": [
    "list(\"hello\")"
   ]
  },
  {
   "cell_type": "code",
   "execution_count": 26,
   "metadata": {
    "colab": {
     "base_uri": "https://localhost:8080/"
    },
    "id": "VfNbwSy1a4rh",
    "outputId": "e3c68f8f-f7f1-4768-90f8-2000a60bc0cd"
   },
   "outputs": [
    {
     "data": {
      "text/plain": [
       "[1, 3, 6, 7, 9]"
      ]
     },
     "execution_count": 26,
     "metadata": {},
     "output_type": "execute_result"
    }
   ],
   "source": [
    "list(myset)"
   ]
  },
  {
   "cell_type": "code",
   "execution_count": 27,
   "metadata": {
    "colab": {
     "base_uri": "https://localhost:8080/"
    },
    "id": "NbvjDyema4rh",
    "outputId": "89da1da6-52f2-421a-c5bb-c1fd46a42213"
   },
   "outputs": [
    {
     "data": {
      "text/plain": [
       "['a', 'b', 'c']"
      ]
     },
     "execution_count": 27,
     "metadata": {},
     "output_type": "execute_result"
    }
   ],
   "source": [
    "list(mydict) # only keys, not values"
   ]
  },
  {
   "cell_type": "code",
   "execution_count": 28,
   "metadata": {
    "colab": {
     "base_uri": "https://localhost:8080/"
    },
    "id": "ZDNUxN0oa4rh",
    "outputId": "391d29b7-f9c0-4f12-9509-07b15d5bdf48"
   },
   "outputs": [
    {
     "data": {
      "text/plain": [
       "16"
      ]
     },
     "execution_count": 28,
     "metadata": {},
     "output_type": "execute_result"
    }
   ],
   "source": [
    "len('this is a string')"
   ]
  },
  {
   "cell_type": "code",
   "execution_count": 29,
   "metadata": {
    "colab": {
     "base_uri": "https://localhost:8080/"
    },
    "id": "rBw4LVoSa4rh",
    "outputId": "6af0a23e-2351-42ef-c049-32eeea34a0ef",
    "scrolled": true
   },
   "outputs": [
    {
     "data": {
      "text/plain": [
       "3"
      ]
     },
     "execution_count": 29,
     "metadata": {},
     "output_type": "execute_result"
    }
   ],
   "source": [
    "len({1, 2, 3})"
   ]
  },
  {
   "cell_type": "markdown",
   "metadata": {
    "id": "dzjwID-Ra4rh"
   },
   "source": [
    "#### [Note] Object, variable, and address\n",
    "\n",
    "When you assign a variable, you might think that each variable is a new object, but that's not really true:"
   ]
  },
  {
   "cell_type": "code",
   "execution_count": 30,
   "metadata": {
    "colab": {
     "base_uri": "https://localhost:8080/"
    },
    "id": "2EquAo5ca4ri",
    "outputId": "4dbc91eb-1d6b-4e0b-ade2-5a24d3dc8067"
   },
   "outputs": [
    {
     "name": "stdout",
     "output_type": "stream",
     "text": [
      "[1, 2, 3, 4] [1, 2, 3, 4]\n"
     ]
    }
   ],
   "source": [
    "a = [1, 2, 3]\n",
    "b = a         # b = [1, 2, 3]\n",
    "b.append(4)   # b = [1, 2, 3, 4]\n",
    "print(a, b)      # a = ?"
   ]
  },
  {
   "cell_type": "markdown",
   "metadata": {
    "id": "p7EiU33ia4ri"
   },
   "source": [
    "What just happend?\n",
    "\n",
    "Variables in Python really are tags:\n",
    "\n",
    "![](./figs/list-copy1.png)\n",
    "\n",
    "Two variables, `a` and `b`, point to the memory address of the same list object!\n",
    "```python\n",
    "# create a new list object in memory (`[1, 2, 3]`), and\n",
    "# save `a` as a variable that points to **the memory address of the object**\n",
    "a = [1, 2, 3] \n",
    "# save `b` as a variable that points to **the memory address of the object**\n",
    "b = a\n",
    "# append a value to the object pointed by `b`\n",
    "b.append(4)\n",
    "print(a, b)\n",
    "```"
   ]
  },
  {
   "cell_type": "markdown",
   "metadata": {
    "id": "EPSoHHTGa4ri"
   },
   "source": [
    "If you want to create two different list objects, use `copy()`.\n",
    "\n",
    "![](./figs/list-copy2.png)"
   ]
  },
  {
   "cell_type": "code",
   "execution_count": 31,
   "metadata": {
    "colab": {
     "base_uri": "https://localhost:8080/"
    },
    "id": "PACv7Ns9a4ri",
    "outputId": "ae1fd369-289a-4562-d74f-bf1c3b0ae252"
   },
   "outputs": [
    {
     "name": "stdout",
     "output_type": "stream",
     "text": [
      "[1, 2, 3] [1, 2, 3, 4]\n"
     ]
    }
   ],
   "source": [
    "a = [1, 2, 3]\n",
    "b = a.copy() # or, b = a[:]\n",
    "b.append(4)\n",
    "print(a, b)"
   ]
  },
  {
   "cell_type": "markdown",
   "metadata": {
    "id": "YQ6HtGHOa4ri"
   },
   "source": [
    "## 1.2 Operators\n",
    "\n",
    "Python can be used like a calculator. Simply type in expressions to get them evaluated.\n",
    "\n",
    "**What are operators in python?**\n",
    "\n",
    "Operators are special **symbols** in Python that carry out **arithmetic** or **logical computation**. The value that the operator operates on is called the **operand**.\n",
    "\n",
    "For example:\n",
    "\n",
    "```python\n",
    ">>>6+3\n",
    "9\n",
    "```\n",
    "\n",
    "Here, **`+`** is the operator that performs addition. **`2`** and **`3`** are the operands and **`5`** is the output of the **operation**."
   ]
  },
  {
   "cell_type": "markdown",
   "metadata": {
    "id": "lf4qmBgGa4ri"
   },
   "source": [
    "### 1.2.1 Arithmatic Operators\n",
    "\n",
    "Arithmetic operators are used to perform **mathematical operations** like **addition**, **subtraction**, **multiplication** etc.\n",
    "\n",
    "| Symbol | Task Performed | Meaning | Example | \n",
    "|:------:|:---------------| :------: |:--------:|\n",
    "| **`+`**      | Addition | add two operands or unary plus | **x + y** or **+2** | \n",
    "| **`-`**      | Subtraction | substract right operand from the left or unary minus | **x - y** or **-2** | \n",
    "| **`*`**      | Multiplication | Multiply two operands | **x \\* y** |\n",
    "| **`/`**      | Division | Divide left operand by the right one (always results into float) | **x / y** | \n",
    "| **`//`**     | Integer/Floor division | division that results into whole number adjusted to the left in the number line | **x // y** | \n",
    "| **`%`**      | Modulus (remainder) | remainder of the division of left operand by the right | **x % y** (remainder of **x/y**) | \n",
    "| <b>`**`</b>     | Exponentiation (power) | left operand raised to the power of right | **x \\*\\* y** (**x** to the power **y**) |"
   ]
  },
  {
   "cell_type": "code",
   "execution_count": 32,
   "metadata": {
    "ExecuteTime": {
     "end_time": "2021-10-02T08:25:25.375922Z",
     "start_time": "2021-10-02T08:25:25.248971Z"
    },
    "colab": {
     "base_uri": "https://localhost:8080/"
    },
    "id": "CyVksCSea4rj",
    "outputId": "0804d912-bc69-4fd1-ab73-c0b580fb7729"
   },
   "outputs": [
    {
     "name": "stdout",
     "output_type": "stream",
     "text": [
      "x + y = 19\n",
      "x - y = 13\n",
      "x * y = 48\n",
      "x / y = 5.333333333333333\n",
      "x // y = 5\n",
      "x % y = 1\n",
      "x ** y = 4096\n"
     ]
    }
   ],
   "source": [
    "x = 16\n",
    "y = 3\n",
    "\n",
    "print('x + y =', x+y)\n",
    "print('x - y =', x-y)\n",
    "print('x * y =', x*y)\n",
    "print('x / y =', x/y)\n",
    "print('x // y =', x//y)\n",
    "print('x % y =', x%y)\n",
    "print('x ** y =', x**y)"
   ]
  },
  {
   "cell_type": "markdown",
   "metadata": {
    "id": "IM8K8dSka4rj"
   },
   "source": [
    "### 1.2.2 Comparison/Relational operators\n",
    "\n",
    "Comparison operators are used to **compare values**. It either returns **True** or **False** according to the **condition**.\n",
    "\n",
    "| Symbol | Task Performed | Meaning | Example | \n",
    "|:----:| :--- |:--- |:---: |\n",
    "| **`>`** | greater than | True if left operand is greater than the right | **x > y** | \n",
    "| **`<`** | less than | True if left operand is less than the right | **x < y** | \n",
    "| **`==`** | equal to | True if both operands are equal | **x == y** | \n",
    "| **`!=`**  | not equal to | True if both operands are not equal | **x != y** | \n",
    "| **`>=`**  | greater than or equal to | True if left operand is greater than or equal to the right | **x >= y** | \n",
    "| **`<=`**  | less than or equal to | True if left operand is less than or equal to the right | **x <= y** | \n",
    "\n",
    "Note the difference between **`==`** (equality test) and **`=`** (assignment)"
   ]
  },
  {
   "cell_type": "code",
   "execution_count": 33,
   "metadata": {
    "colab": {
     "base_uri": "https://localhost:8080/"
    },
    "id": "iBZshkw_a4rj",
    "outputId": "b9da0d2e-5c43-4c97-ab81-15bb24cd7739"
   },
   "outputs": [
    {
     "name": "stdout",
     "output_type": "stream",
     "text": [
      "x > y True\n",
      "x < y False\n",
      "x == y False\n",
      "x != y True\n",
      "x >= y True\n",
      "x <= y False\n"
     ]
    }
   ],
   "source": [
    "x = 16\n",
    "y = 3\n",
    "\n",
    "print('x > y', x>y)\n",
    "print('x < y', x<y)\n",
    "print('x == y', x==y)\n",
    "print('x != y', x!=y)\n",
    "print('x >= y', x>=y)\n",
    "print('x <= y', x<=y)"
   ]
  },
  {
   "cell_type": "markdown",
   "metadata": {
    "id": "Cctgjxzda4rj"
   },
   "source": [
    "Comparisons can also be chained in the mathematically obvious way. The following will work as expected in Python (but not in other languages like C/C++):"
   ]
  },
  {
   "cell_type": "code",
   "execution_count": 34,
   "metadata": {
    "ExecuteTime": {
     "end_time": "2021-10-02T08:25:39.740660Z",
     "start_time": "2021-10-02T08:25:39.722109Z"
    },
    "colab": {
     "base_uri": "https://localhost:8080/"
    },
    "id": "R4wx4qmCa4rj",
    "outputId": "c0480839-e3e8-4cbd-e18c-03ea65d80be7"
   },
   "outputs": [
    {
     "data": {
      "text/plain": [
       "False"
      ]
     },
     "execution_count": 34,
     "metadata": {},
     "output_type": "execute_result"
    }
   ],
   "source": [
    "z = 3\n",
    "0.5 < z <= 1"
   ]
  },
  {
   "cell_type": "markdown",
   "metadata": {
    "id": "m9c3Bxyxa4rj"
   },
   "source": [
    "## 1.2.3 Logical/Boolean operators \n",
    "\n",
    "Logical operators are the **`and`**, **`or`**, **`not`** operators.\n",
    "\n",
    "| Symbol | Meaning | Example | \n",
    "|:----:| :---: |:---:|\n",
    "| **`and`** |  True if both the operands are true | **x and y** | \n",
    "| **`or`** |  True if either of the operand is true | **x or y** | \n",
    "| **`not`** |  True if operand are false (complements the operand) | **not x** | \n",
    "\n",
    "\n",
    "#### Example : Logical operators in Python"
   ]
  },
  {
   "cell_type": "code",
   "execution_count": 35,
   "metadata": {
    "ExecuteTime": {
     "end_time": "2021-10-02T08:25:40.815854Z",
     "start_time": "2021-10-02T08:25:40.802187Z"
    },
    "colab": {
     "base_uri": "https://localhost:8080/"
    },
    "id": "g5BCXH8_a4rk",
    "outputId": "7a88cfed-94e5-4f6a-db28-a963a09aa7c6",
    "scrolled": false
   },
   "outputs": [
    {
     "name": "stdout",
     "output_type": "stream",
     "text": [
      "x and y is False\n",
      "x or y is True\n",
      "not x is False\n",
      "not not x is True\n"
     ]
    }
   ],
   "source": [
    "x = True  # e.g., (7 > 3)\n",
    "y = False # e.g., (7 < 3)\n",
    "\n",
    "print('x and y is', x and y) # False\n",
    "print('x or y is', x or y) # True\n",
    "print('not x is', not x) # False\n",
    "print('not not x is', not not x) # False"
   ]
  },
  {
   "cell_type": "code",
   "execution_count": 36,
   "metadata": {
    "ExecuteTime": {
     "end_time": "2021-10-02T08:25:41.047300Z",
     "start_time": "2021-10-02T08:25:41.025817Z"
    },
    "colab": {
     "base_uri": "https://localhost:8080/"
    },
    "id": "OmXguLJQa4rk",
    "outputId": "5c0ab54d-ee5c-412f-b7ff-a70ade6c8197"
   },
   "outputs": [
    {
     "data": {
      "text/plain": [
       "False"
      ]
     },
     "execution_count": 36,
     "metadata": {},
     "output_type": "execute_result"
    }
   ],
   "source": [
    "True and (not(not False)) or (True and (not True))  # What will be output?\n",
    "\n",
    "# True and (not(True)) or (True and (False))\n",
    "# True and False or (False)\n",
    "# False or False\n",
    "# False"
   ]
  },
  {
   "cell_type": "markdown",
   "metadata": {
    "id": "F9QZd_4Ra4rk"
   },
   "source": [
    "### 1.2.4 Assignment operators\n",
    "\n",
    "Assignment operators are used in Python to **assign values** to **variables**.\n",
    "\n",
    "- **`a = 5`** is a simple assignment operator that assigns the value 5 on the right to the variable **`a`** on the left.\n",
    "\n",
    "- There are various compound operators in Python like a **`+= 5`** that adds to the variable and later assigns the same. It is equivalent to **`a = a + 5`**.\n",
    "\n",
    "| Symbol | Example | Equivalent to | \n",
    "|:---:|:---:|:---:|\n",
    "| **`=`** | **x = 5** | **x = 5** | \n",
    "| **`+=`** | **x += 5** | **x = x + 5** | \n",
    "| **`-=`** | **x -= 5** | **x = x - 5** | \n",
    "| **`*=`** | **x \\*= 5** | **x = x \\* 5** | \n",
    "| **`/=`** | **x /= 5** | **x = x / 5** | \n",
    "| **`%=`** | **x %= 5** | **x = x % 5** | \n",
    "| **`//=`** | **x //= 5** | **x = x // 5** | \n",
    "| <b>`**=`</b> | **x \\*\\*= 5** | **x = x \\*\\* 5** | "
   ]
  },
  {
   "cell_type": "markdown",
   "metadata": {
    "id": "ouzPbbLIa4rk"
   },
   "source": [
    "The binary operators can be combined with assignment to modify a variable value. For example:"
   ]
  },
  {
   "cell_type": "code",
   "execution_count": 37,
   "metadata": {
    "ExecuteTime": {
     "end_time": "2021-10-02T08:25:44.848078Z",
     "start_time": "2021-10-02T08:25:44.830504Z"
    },
    "colab": {
     "base_uri": "https://localhost:8080/"
    },
    "id": "kx7J3d5-a4rk",
    "outputId": "c3f71d39-e029-4c99-9db4-c093826a9087"
   },
   "outputs": [
    {
     "name": "stdout",
     "output_type": "stream",
     "text": [
      "x is 3\n",
      "x is 9\n"
     ]
    }
   ],
   "source": [
    "x = 1\n",
    "x += 2 # add 2 to x\n",
    "print(\"x is\", x)\n",
    "x **= 2 # x := x^2\n",
    "print('x is', x)"
   ]
  },
  {
   "cell_type": "markdown",
   "metadata": {
    "id": "a_hfG5gsa4rk"
   },
   "source": [
    "### 1.2.5 Special operators\n",
    "\n",
    "Python language offers some special types of operators like the identity operator or the membership operator. They are described below with examples."
   ]
  },
  {
   "cell_type": "markdown",
   "metadata": {
    "id": "HFPM79cia4rk"
   },
   "source": [
    "#### 1.2.5.1. Identity operators\n",
    "\n",
    "**`is`** and **`is not`** are the identity operators in Python. They are used to check if two values (or variables) are located on the same part of the **memory**. Two variables that are equal does not imply that they are **identical**.\n",
    "\n",
    "| Symbol | Meaning | Example | \n",
    "|:---:| :---: |:---:|\n",
    "| **`is`** |  True if the operands are identical (refer to the same object) | **x is True**  | \n",
    "| **`is not`** |  True if the operands are not identical (do not refer to the same object)  | **x is not True** | "
   ]
  },
  {
   "cell_type": "code",
   "execution_count": 38,
   "metadata": {
    "ExecuteTime": {
     "end_time": "2021-10-02T08:25:45.559015Z",
     "start_time": "2021-10-02T08:25:45.542417Z"
    },
    "colab": {
     "base_uri": "https://localhost:8080/"
    },
    "id": "VTxFBRD9a4rl",
    "outputId": "ad339e03-b31f-4b20-c882-d9c150a53d31"
   },
   "outputs": [
    {
     "name": "stdout",
     "output_type": "stream",
     "text": [
      "False\n",
      "True\n",
      "False\n"
     ]
    }
   ],
   "source": [
    "x1 = 6\n",
    "y1 = 6\n",
    "x2 = 'Hello'\n",
    "y2 = 'Hello'\n",
    "x3 = [1,2,3] # list\n",
    "y3 = [1,2,3] # list\n",
    "\n",
    "# Output: False\n",
    "print(x1 is not y1)\n",
    "\n",
    "# Output: True\n",
    "print(x2 is y2)\n",
    "\n",
    "# Output: False because two list [] can never be equal\n",
    "print(x3 is y3)"
   ]
  },
  {
   "cell_type": "markdown",
   "metadata": {
    "id": "UHScEa00a4rl"
   },
   "source": [
    "**Explanation:**\n",
    "\n",
    "Here, we see that **`x1`** and **`y1`** are integers of same values, so they are equal as well as identical. Same is the case with **`x2`** and **`y2`** (strings).\n",
    "\n",
    "But **`x3`** and **`y3`** are list. They are equal but not identical. It is because interpreter locates them **separately in memory** although they are equal.\n",
    "\n",
    "> check memory address using `id()`."
   ]
  },
  {
   "cell_type": "markdown",
   "metadata": {
    "id": "2oyyXNkUa4rl"
   },
   "source": [
    "### 1.2.5.2. Membership operators\n",
    "\n",
    "**`in`** and **`not in`** are the membership operators in Python. They are used to test whether a value or variable is found in a **sequence** (**string**, **list**, **tuple**, **set** and **dictionary**).\n",
    "\n",
    "In a dictionary we can only test for presence of **key, not the value**.\n",
    "\n",
    "| Symbol | Meaning | Example | \n",
    "|:---:| :---: |:---:|\n",
    "| **`in`** |  True if value/variable is found in sequence | **5 in x**  | \n",
    "| **`not in`** |  True if value/variable is not found in sequence | **5 not in x**  | \n"
   ]
  },
  {
   "cell_type": "code",
   "execution_count": 39,
   "metadata": {
    "ExecuteTime": {
     "end_time": "2021-10-02T08:25:46.265068Z",
     "start_time": "2021-10-02T08:25:46.246518Z"
    },
    "colab": {
     "base_uri": "https://localhost:8080/"
    },
    "id": "cnvrFRMFa4rl",
    "outputId": "0272834f-99d9-42ab-97bf-8b1d1776cf89"
   },
   "outputs": [
    {
     "name": "stdout",
     "output_type": "stream",
     "text": [
      "True\n",
      "True\n",
      "True\n",
      "False\n"
     ]
    }
   ],
   "source": [
    "x = 'Hello world'\n",
    "y = {1:'a', 2:'b'} # dictionary 1 is key and 'a' is element. So we access element without its key.\n",
    "\n",
    "print('H' in x)  # Do we have 'H' in 'Hello World' ?\n",
    "print('hello' not in x)  # Do we have 'hello' in 'Hello World' ?\n",
    "print(1 in y) # Do we have 1 in keys of y?\n",
    "print('a' in y) # False because we cannot identify 'a' without its key hence it is Flase."
   ]
  },
  {
   "cell_type": "markdown",
   "metadata": {
    "id": "oKJXKPdsa4rl"
   },
   "source": [
    "**Explanation:**\n",
    "\n",
    "Here, **'`H`'** is in **`x`** but **'`hello`'** is not present in **`x`** (remember, Python is case sensitive). Similary, **`1`** is key and **'`a`'** is the value in dictionary y. Hence, **`'a'in y`** returns **`False`**."
   ]
  },
  {
   "cell_type": "markdown",
   "metadata": {
    "id": "2K15aipna4rl"
   },
   "source": [
    "## 1.3 Control Flow Statements\n",
    "\n",
    "Similar to other programming languages, the control flow statements in Python include if, for, and while statements. Examples on how to use these statements are shown below. "
   ]
  },
  {
   "cell_type": "markdown",
   "metadata": {
    "id": "WPHrQWGqa4rl"
   },
   "source": [
    "### 1.3.1 Conditional Statements\n",
    "`if-else`, `if-elif-else`"
   ]
  },
  {
   "cell_type": "code",
   "execution_count": 40,
   "metadata": {
    "colab": {
     "base_uri": "https://localhost:8080/"
    },
    "id": "NUEERlHsa4rm",
    "outputId": "fb409596-6a26-42e7-cacc-c16b4fcce00e"
   },
   "outputs": [
    {
     "name": "stdout",
     "output_type": "stream",
     "text": [
      "x = 10 is even\n",
      "x = 10 is positive\n"
     ]
    }
   ],
   "source": [
    "# using if-else statement\n",
    "# check the properties of a given number\n",
    "\n",
    "x = 10\n",
    "\n",
    "if x % 2 == 0:\n",
    "    print(\"x =\", x, \"is even\")\n",
    "else:\n",
    "    print(\"x =\", x, \"is odd\")\n",
    "\n",
    "if x > 0:\n",
    "    print(\"x =\", x, \"is positive\")\n",
    "elif x < 0:\n",
    "    print(\"x =\", x, \"is negative\")\n",
    "else:\n",
    "    print(\"x =\", x, \"is neither positive nor negative\")"
   ]
  },
  {
   "cell_type": "markdown",
   "metadata": {
    "id": "75-kacWLa4rm"
   },
   "source": [
    "### 1.3.2 Loops\n",
    "Loops are a way to repeat the same code multiple times.\n",
    "- `for` do someting over iterable\n",
    "- `while(condition):` do something while the `condition` is truthy"
   ]
  },
  {
   "cell_type": "code",
   "execution_count": 41,
   "metadata": {
    "colab": {
     "base_uri": "https://localhost:8080/"
    },
    "id": "ShobBbKza4rm",
    "outputId": "0266e020-ac97-4f64-af84-94053dd482ce"
   },
   "outputs": [
    {
     "name": "stdout",
     "output_type": "stream",
     "text": [
      "0\n",
      "2\n",
      "4\n",
      "6\n",
      "8\n"
     ]
    }
   ],
   "source": [
    "# using for loop\n",
    "for i in range(10):\n",
    "    if i % 2 == 0: # even\n",
    "        print(i)"
   ]
  },
  {
   "cell_type": "code",
   "execution_count": 42,
   "metadata": {
    "colab": {
     "base_uri": "https://localhost:8080/"
    },
    "id": "ig3fjlxla4rm",
    "outputId": "604e511c-9ff8-4e89-ad62-7befb8190260"
   },
   "outputs": [
    {
     "name": "stdout",
     "output_type": "stream",
     "text": [
      "this ==> that\n",
      "is ==> at\n",
      "a ==> a\n",
      "list ==> latt\n",
      "[4, 2, 1, 4]\n"
     ]
    }
   ],
   "source": [
    "# using for loop with a list\n",
    "mylist = ['this', 'is', 'a', 'list']\n",
    "for word in mylist:\n",
    "    print(word, '==>', word.replace(\"is\", \"at\"))\n",
    "\n",
    "mylist2 = [len(word) for word in mylist]  # list comprehension\n",
    "print(mylist2)"
   ]
  },
  {
   "cell_type": "code",
   "execution_count": 43,
   "metadata": {
    "colab": {
     "base_uri": "https://localhost:8080/"
    },
    "id": "sOraeSlIa4rm",
    "outputId": "7ff81469-ad56-42fb-810d-9acaa0201382"
   },
   "outputs": [
    {
     "name": "stdout",
     "output_type": "stream",
     "text": [
      "['Austin', 'Lansing', 'Sacramento']\n"
     ]
    }
   ],
   "source": [
    "# using for loop with list of tuples\n",
    "states = [('MI', 'Michigan', 'Lansing'),\n",
    "          ('CA', 'California', 'Sacramento'),\n",
    "          ('TX', 'Texas', 'Austin')]\n",
    "\n",
    "sorted_capitals = [state[2] for state in states]\n",
    "sorted_capitals.sort()\n",
    "print(sorted_capitals)"
   ]
  },
  {
   "cell_type": "code",
   "execution_count": 44,
   "metadata": {
    "colab": {
     "base_uri": "https://localhost:8080/"
    },
    "id": "0SPIlxr0a4rm",
    "outputId": "c4493a58-7bda-4c0a-b236-f0fae8269b17"
   },
   "outputs": [
    {
     "name": "stdout",
     "output_type": "stream",
     "text": [
      "['apples', 'oranges', 'bananas', 'cherries']\n"
     ]
    }
   ],
   "source": [
    "# using for loop with dictionary\n",
    "fruits = {'apples': 3, 'oranges': 4, 'bananas': 2, 'cherries': 10}\n",
    "fruitnames = [k for (k,v) in fruits.items()]\n",
    "print(fruitnames)"
   ]
  },
  {
   "cell_type": "code",
   "execution_count": 45,
   "metadata": {
    "colab": {
     "base_uri": "https://localhost:8080/"
    },
    "id": "R0SbXiW_a4rm",
    "outputId": "8e840238-df83-4b04-a692-efc79795e00c"
   },
   "outputs": [
    {
     "name": "stdout",
     "output_type": "stream",
     "text": [
      "[-10, -9, -8, -7, -6, -5, -4, -3, -2, -1, 0, 1, 2, 3, 4, 5, 6, 7, 8, 9]\n",
      "First non-negative number: 0\n"
     ]
    }
   ],
   "source": [
    "# using while loop\n",
    "mylist = list(range(-10, 10))\n",
    "print(mylist)\n",
    "\n",
    "i = 0\n",
    "while (mylist[i] < 0):\n",
    "    i = i + 1\n",
    "    \n",
    "print(\"First non-negative number:\", mylist[i])"
   ]
  },
  {
   "cell_type": "markdown",
   "metadata": {
    "id": "BH-HHurLa4rn"
   },
   "source": [
    "## 1.4 User-Defined Functions\n",
    "\n",
    "You can create your own functions in Python, which can be named or unnamed. Unnamed functions are defined using the lambda keyword as shown in the previous example for sorting a list of tuples. "
   ]
  },
  {
   "cell_type": "code",
   "execution_count": 46,
   "metadata": {
    "colab": {
     "base_uri": "https://localhost:8080/"
    },
    "id": "qFR5rrmpa4rn",
    "outputId": "cea17a46-9063-4dda-80f1-c2882b13243f"
   },
   "outputs": [
    {
     "name": "stdout",
     "output_type": "stream",
     "text": [
      "[2, 3, 5, 7, 11, 13, 17, 19, 23, 29, 31]\n"
     ]
    }
   ],
   "source": [
    "def get_primes(n):\n",
    "    \"\"\"return a list of primes less than or equal to n\"\"\"\n",
    "    from math import sqrt # import sqrt function from math library\n",
    "    primes = [] # Initialization\n",
    "    # for loop to find primes less or equal to `n`\n",
    "    for k in range(2, n+1):\n",
    "        remainder_list = [k%d > 0 for d in primes if d <= sqrt(k)]\n",
    "        if not remainder_list or all(remainder_list):\n",
    "            primes.append(k)\n",
    "    return primes\n",
    "\n",
    "primes = get_primes(31)\n",
    "print(primes)"
   ]
  },
  {
   "cell_type": "code",
   "execution_count": 47,
   "metadata": {
    "colab": {
     "base_uri": "https://localhost:8080/"
    },
    "id": "Slgmwl-Ka4rp",
    "outputId": "844c0287-d62f-4b5e-ee61-85a9b88c9f13"
   },
   "outputs": [
    {
     "name": "stdout",
     "output_type": "stream",
     "text": [
      "x = 20 is even\n",
      "x = 20 is positive\n"
     ]
    }
   ],
   "source": [
    "def get_properties(x):\n",
    "    \"\"\"print the properties of a given number x\"\"\"\n",
    "    if x % 2 == 0:\n",
    "        print(\"x =\", x, \"is even\")\n",
    "    else:\n",
    "        print(\"x =\", x, \"is odd\")\n",
    "\n",
    "    if x > 0:\n",
    "        print(\"x =\", x, \"is positive\")\n",
    "    elif x < 0:\n",
    "        print(\"x =\", x, \"is negative\")\n",
    "    else:\n",
    "        print(\"x =\", x, \"is neither positive nor negative\")\n",
    "        \n",
    "get_properties(20)"
   ]
  },
  {
   "cell_type": "code",
   "execution_count": 48,
   "metadata": {
    "colab": {
     "base_uri": "https://localhost:8080/"
    },
    "id": "sA6WnTLHa4rp",
    "outputId": "5c0a7ceb-8ee4-40ca-aefc-7ded96cfcb68"
   },
   "outputs": [
    {
     "name": "stdout",
     "output_type": "stream",
     "text": [
      "[-11, 12, 23, 45, 71]\n"
     ]
    }
   ],
   "source": [
    "import math\n",
    "\n",
    "def discard(inlist, sorting=False):    # default value for sortFlag is False \n",
    "    \"\"\"discard missing values from a list\"\"\"\n",
    "    outlist = []\n",
    "    for item in inlist:\n",
    "        if not math.isnan(item):\n",
    "            outlist.append(item)\n",
    "            \n",
    "    if sorting:\n",
    "        outlist.sort()\n",
    "    return outlist\n",
    "\n",
    "mylist = [12, math.nan, 23, -11, 45, math.nan, 71]\n",
    "\n",
    "print(discard(mylist, sorting=True))"
   ]
  },
  {
   "cell_type": "markdown",
   "metadata": {
    "id": "tYbYgT5ka4rp"
   },
   "source": [
    "## 1.5 File I/O\n",
    "\n",
    "You can read and write data from a list or other objects to a file."
   ]
  },
  {
   "cell_type": "code",
   "execution_count": 49,
   "metadata": {
    "colab": {
     "base_uri": "https://localhost:8080/"
    },
    "id": "AAgqfsV5a4rp",
    "outputId": "eb44af8f-501b-4fd9-cec2-52e6da165b8f"
   },
   "outputs": [
    {
     "name": "stdout",
     "output_type": "stream",
     "text": [
      "State= Michigan (MI) Capital: Lansing\n",
      "State= California (CA) Capital: Sacramento\n",
      "State= Texas (TX) Capital: Austin\n",
      "State= Minnesota (MN) Capital: St Paul\n"
     ]
    }
   ],
   "source": [
    "states = [('MI', 'Michigan', 'Lansing'),\n",
    "          ('CA', 'California', 'Sacramento'),\n",
    "          ('TX', 'Texas', 'Austin'), \n",
    "          ('MN', 'Minnesota', 'St Paul')]\n",
    "\n",
    "# open `states.txt` in write mode\n",
    "with open('states.txt', 'w') as f:\n",
    "    # write strings in the file\n",
    "    f.write('\\n'.join('%s,%s,%s' % state for state in states))\n",
    "    \n",
    "# open `states.txt` in read mode\n",
    "with open('states.txt', 'r') as f:\n",
    "    for line in f:\n",
    "        line = line.strip() # remove `\\n`\n",
    "        fields = line.split(sep=',')    # split each line into its respective fields\n",
    "        print('State= {} ({}) Capital: {}'.format(fields[1], fields[0], fields[2]))"
   ]
  },
  {
   "cell_type": "markdown",
   "metadata": {
    "id": "fbqqwtkia4rp"
   },
   "source": [
    "### Workload\n",
    "\n",
    "The only way to learn Python, is by writing Python... **a lot**. So you are expected to put in effort.\n",
    "- If you think you can learn Python by just listening to me, you are grossly overestimating my abilities.\n",
    "\n",
    "Last words before we get to it.\n",
    "- Work\n",
    "- Make friends\n",
    "- Fail often\n"
   ]
  },
  {
   "cell_type": "markdown",
   "metadata": {
    "id": "Mu10LSYSa4rq"
   },
   "source": [
    "### Advice\n",
    "\n",
    "If you run into difficulties while coding, just google it.\n",
    "\n",
    "![](./figs/googling.gif)\n",
    "\n",
    "For debugging,\n",
    "1. Read the error message carefully! You will find hint for debugging.\n",
    "2. Google the error messages. Some of the more than 10 million Python users had already encountered and fixed the error.\n",
    "\n"
   ]
  }
 ],
 "metadata": {
  "colab": {
   "provenance": []
  },
  "kernelspec": {
   "display_name": "Python 3 (ipykernel)",
   "language": "python",
   "name": "python3"
  },
  "language_info": {
   "codemirror_mode": {
    "name": "ipython",
    "version": 3
   },
   "file_extension": ".py",
   "mimetype": "text/x-python",
   "name": "python",
   "nbconvert_exporter": "python",
   "pygments_lexer": "ipython3",
   "version": "3.8.8"
  }
 },
 "nbformat": 4,
 "nbformat_minor": 1
}
